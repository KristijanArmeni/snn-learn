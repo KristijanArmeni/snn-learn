{
 "cells": [
  {
   "cell_type": "code",
   "execution_count": 1,
   "metadata": {},
   "outputs": [],
   "source": [
    "import numpy as np\n",
    "import pandas as pd\n",
    "\n",
    "# visualization\n",
    "from matplotlib import pyplot as plt\n",
    "import altair as alt\n",
    "import seaborn as sns\n",
    "\n",
    "from stimuli import generate_sequence, encode_input, Dataset\n",
    "from snn_params import Params\n",
    "from snn_network import SNN\n",
    "\n",
    "from util import load, save"
   ]
  },
  {
   "cell_type": "code",
   "execution_count": 9,
   "metadata": {},
   "outputs": [],
   "source": [
    "plt.rcParams.update({'figure.figsize': (8, 6)})\n",
    "plt.rcParams.update({'font.size': 14})"
   ]
  },
  {
   "cell_type": "code",
   "execution_count": 3,
   "metadata": {},
   "outputs": [
    {
     "name": "stdout",
     "output_type": "stream",
     "text": [
      "[0.    0.001 0.002 0.003 0.004 0.005 0.006 0.007 0.008 0.009]\n"
     ]
    }
   ],
   "source": [
    "# Initialize parameters\n",
    "parameters = Params()\n",
    "print(parameters.sim[\"t\"][0:10])"
   ]
  },
  {
   "cell_type": "markdown",
   "metadata": {},
   "source": [
    "### Input sequence"
   ]
  },
  {
   "cell_type": "code",
   "execution_count": 5,
   "metadata": {},
   "outputs": [
    {
     "name": "stdout",
     "output_type": "stream",
     "text": [
      "AX: 373 (23.0 %)\n",
      "BY: 381 (24.0 %)\n"
     ]
    }
   ],
   "source": [
    "# Create full dataset\n",
    "seq, rsp, out_seq = generate_sequence(possible_n_inner=np.arange(1, 5)+1, n_outer=350, seed=95)\n",
    "inp = encode_input(sequence=seq)\n",
    "print(\"AX: {} ({} %)\".format(np.sum(out_seq==\"AX\"), round(np.sum(out_seq==\"AX\")/len(out_seq), 2)*100))\n",
    "print(\"BY: {} ({} %)\".format(np.sum(out_seq==\"BY\"), round(np.sum(out_seq==\"BY\")/len(out_seq), 2)*100))"
   ]
  },
  {
   "cell_type": "code",
   "execution_count": 6,
   "metadata": {},
   "outputs": [
    {
     "name": "stdout",
     "output_type": "stream",
     "text": [
      "1604\n"
     ]
    },
    {
     "data": {
      "application/vnd.vegalite.v2+json": {
       "$schema": "https://vega.github.io/schema/vega-lite/v2.6.0.json",
       "config": {
        "view": {
         "height": 300,
         "width": 400
        }
       },
       "data": {
        "name": "data-7cfd716f50df6e1876275f0547359fd8"
       },
       "datasets": {
        "data-7cfd716f50df6e1876275f0547359fd8": [
         {
          "symbol": "1"
         },
         {
          "symbol": "AX"
         },
         {
          "symbol": "BX"
         },
         {
          "symbol": "CX"
         },
         {
          "symbol": "BZ"
         },
         {
          "symbol": "1"
         },
         {
          "symbol": "AX"
         },
         {
          "symbol": "BY"
         },
         {
          "symbol": "BY"
         },
         {
          "symbol": "2"
         },
         {
          "symbol": "BX"
         },
         {
          "symbol": "AX"
         },
         {
          "symbol": "AX"
         },
         {
          "symbol": "BY"
         },
         {
          "symbol": "BZ"
         },
         {
          "symbol": "2"
         },
         {
          "symbol": "CX"
         },
         {
          "symbol": "AX"
         },
         {
          "symbol": "AX"
         },
         {
          "symbol": "BX"
         },
         {
          "symbol": "2"
         },
         {
          "symbol": "AX"
         },
         {
          "symbol": "CY"
         },
         {
          "symbol": "AX"
         },
         {
          "symbol": "BY"
         },
         {
          "symbol": "1"
         },
         {
          "symbol": "CX"
         },
         {
          "symbol": "AY"
         },
         {
          "symbol": "AX"
         },
         {
          "symbol": "2"
         },
         {
          "symbol": "AX"
         },
         {
          "symbol": "AX"
         },
         {
          "symbol": "BY"
         },
         {
          "symbol": "BY"
         },
         {
          "symbol": "1"
         },
         {
          "symbol": "BY"
         },
         {
          "symbol": "BY"
         },
         {
          "symbol": "1"
         },
         {
          "symbol": "CY"
         },
         {
          "symbol": "BY"
         },
         {
          "symbol": "BY"
         },
         {
          "symbol": "CX"
         },
         {
          "symbol": "CY"
         },
         {
          "symbol": "1"
         },
         {
          "symbol": "AZ"
         },
         {
          "symbol": "AX"
         },
         {
          "symbol": "BY"
         },
         {
          "symbol": "AY"
         },
         {
          "symbol": "2"
         },
         {
          "symbol": "CY"
         },
         {
          "symbol": "AX"
         },
         {
          "symbol": "AX"
         },
         {
          "symbol": "2"
         },
         {
          "symbol": "CY"
         },
         {
          "symbol": "AX"
         },
         {
          "symbol": "2"
         },
         {
          "symbol": "AX"
         },
         {
          "symbol": "BY"
         },
         {
          "symbol": "BY"
         },
         {
          "symbol": "AX"
         },
         {
          "symbol": "CX"
         },
         {
          "symbol": "2"
         },
         {
          "symbol": "CY"
         },
         {
          "symbol": "BZ"
         },
         {
          "symbol": "1"
         },
         {
          "symbol": "BY"
         },
         {
          "symbol": "AX"
         },
         {
          "symbol": "BY"
         },
         {
          "symbol": "AY"
         },
         {
          "symbol": "AY"
         },
         {
          "symbol": "1"
         },
         {
          "symbol": "CZ"
         },
         {
          "symbol": "AX"
         },
         {
          "symbol": "CZ"
         },
         {
          "symbol": "AZ"
         },
         {
          "symbol": "2"
         },
         {
          "symbol": "BY"
         },
         {
          "symbol": "AX"
         },
         {
          "symbol": "2"
         },
         {
          "symbol": "BY"
         },
         {
          "symbol": "AX"
         },
         {
          "symbol": "AX"
         },
         {
          "symbol": "2"
         },
         {
          "symbol": "CZ"
         },
         {
          "symbol": "AY"
         },
         {
          "symbol": "1"
         },
         {
          "symbol": "BY"
         },
         {
          "symbol": "AZ"
         },
         {
          "symbol": "AX"
         },
         {
          "symbol": "BY"
         },
         {
          "symbol": "BY"
         },
         {
          "symbol": "2"
         },
         {
          "symbol": "AX"
         },
         {
          "symbol": "AX"
         },
         {
          "symbol": "BY"
         },
         {
          "symbol": "AX"
         },
         {
          "symbol": "1"
         },
         {
          "symbol": "BY"
         },
         {
          "symbol": "BY"
         },
         {
          "symbol": "AX"
         },
         {
          "symbol": "BX"
         },
         {
          "symbol": "BZ"
         },
         {
          "symbol": "2"
         },
         {
          "symbol": "AY"
         },
         {
          "symbol": "CX"
         },
         {
          "symbol": "CZ"
         },
         {
          "symbol": "AX"
         },
         {
          "symbol": "AZ"
         },
         {
          "symbol": "2"
         },
         {
          "symbol": "AX"
         },
         {
          "symbol": "AX"
         },
         {
          "symbol": "BY"
         },
         {
          "symbol": "BY"
         },
         {
          "symbol": "AX"
         },
         {
          "symbol": "2"
         },
         {
          "symbol": "AY"
         },
         {
          "symbol": "AY"
         },
         {
          "symbol": "BY"
         },
         {
          "symbol": "CX"
         },
         {
          "symbol": "1"
         },
         {
          "symbol": "CZ"
         },
         {
          "symbol": "BX"
         },
         {
          "symbol": "AX"
         },
         {
          "symbol": "BZ"
         },
         {
          "symbol": "CX"
         },
         {
          "symbol": "1"
         },
         {
          "symbol": "BZ"
         },
         {
          "symbol": "AX"
         },
         {
          "symbol": "BX"
         },
         {
          "symbol": "AZ"
         },
         {
          "symbol": "AZ"
         },
         {
          "symbol": "2"
         },
         {
          "symbol": "BY"
         },
         {
          "symbol": "BY"
         },
         {
          "symbol": "AY"
         },
         {
          "symbol": "AX"
         },
         {
          "symbol": "BY"
         },
         {
          "symbol": "1"
         },
         {
          "symbol": "BY"
         },
         {
          "symbol": "CX"
         },
         {
          "symbol": "1"
         },
         {
          "symbol": "BY"
         },
         {
          "symbol": "BY"
         },
         {
          "symbol": "CZ"
         },
         {
          "symbol": "BY"
         },
         {
          "symbol": "AZ"
         },
         {
          "symbol": "2"
         },
         {
          "symbol": "BY"
         },
         {
          "symbol": "BY"
         },
         {
          "symbol": "1"
         },
         {
          "symbol": "CZ"
         },
         {
          "symbol": "AZ"
         },
         {
          "symbol": "AX"
         },
         {
          "symbol": "1"
         },
         {
          "symbol": "AX"
         },
         {
          "symbol": "BY"
         },
         {
          "symbol": "BY"
         },
         {
          "symbol": "AY"
         },
         {
          "symbol": "1"
         },
         {
          "symbol": "BX"
         },
         {
          "symbol": "BX"
         },
         {
          "symbol": "CY"
         },
         {
          "symbol": "AX"
         },
         {
          "symbol": "1"
         },
         {
          "symbol": "AX"
         },
         {
          "symbol": "BZ"
         },
         {
          "symbol": "AX"
         },
         {
          "symbol": "2"
         },
         {
          "symbol": "CZ"
         },
         {
          "symbol": "BX"
         },
         {
          "symbol": "1"
         },
         {
          "symbol": "AX"
         },
         {
          "symbol": "BY"
         },
         {
          "symbol": "BX"
         },
         {
          "symbol": "AX"
         },
         {
          "symbol": "1"
         },
         {
          "symbol": "AX"
         },
         {
          "symbol": "AX"
         },
         {
          "symbol": "BZ"
         },
         {
          "symbol": "1"
         },
         {
          "symbol": "BZ"
         },
         {
          "symbol": "AX"
         },
         {
          "symbol": "AX"
         },
         {
          "symbol": "AZ"
         },
         {
          "symbol": "AX"
         },
         {
          "symbol": "2"
         },
         {
          "symbol": "AX"
         },
         {
          "symbol": "AX"
         },
         {
          "symbol": "2"
         },
         {
          "symbol": "AX"
         },
         {
          "symbol": "BY"
         },
         {
          "symbol": "1"
         },
         {
          "symbol": "BY"
         },
         {
          "symbol": "BZ"
         },
         {
          "symbol": "AX"
         },
         {
          "symbol": "BY"
         },
         {
          "symbol": "BY"
         },
         {
          "symbol": "1"
         },
         {
          "symbol": "AX"
         },
         {
          "symbol": "BX"
         },
         {
          "symbol": "BX"
         },
         {
          "symbol": "CZ"
         },
         {
          "symbol": "1"
         },
         {
          "symbol": "AX"
         },
         {
          "symbol": "AZ"
         },
         {
          "symbol": "BY"
         },
         {
          "symbol": "AX"
         },
         {
          "symbol": "2"
         },
         {
          "symbol": "CX"
         },
         {
          "symbol": "AX"
         },
         {
          "symbol": "1"
         },
         {
          "symbol": "AX"
         },
         {
          "symbol": "AY"
         },
         {
          "symbol": "AX"
         },
         {
          "symbol": "BX"
         },
         {
          "symbol": "1"
         },
         {
          "symbol": "BY"
         },
         {
          "symbol": "BY"
         },
         {
          "symbol": "BY"
         },
         {
          "symbol": "1"
         },
         {
          "symbol": "BX"
         },
         {
          "symbol": "AY"
         },
         {
          "symbol": "AX"
         },
         {
          "symbol": "AX"
         },
         {
          "symbol": "1"
         },
         {
          "symbol": "CY"
         },
         {
          "symbol": "BY"
         },
         {
          "symbol": "2"
         },
         {
          "symbol": "AX"
         },
         {
          "symbol": "AX"
         },
         {
          "symbol": "AX"
         },
         {
          "symbol": "BY"
         },
         {
          "symbol": "CZ"
         },
         {
          "symbol": "2"
         },
         {
          "symbol": "CZ"
         },
         {
          "symbol": "BY"
         },
         {
          "symbol": "CX"
         },
         {
          "symbol": "1"
         },
         {
          "symbol": "AX"
         },
         {
          "symbol": "BY"
         },
         {
          "symbol": "AX"
         },
         {
          "symbol": "AX"
         },
         {
          "symbol": "AX"
         },
         {
          "symbol": "2"
         },
         {
          "symbol": "BY"
         },
         {
          "symbol": "CY"
         },
         {
          "symbol": "CZ"
         },
         {
          "symbol": "BY"
         },
         {
          "symbol": "BY"
         },
         {
          "symbol": "1"
         },
         {
          "symbol": "CY"
         },
         {
          "symbol": "CZ"
         },
         {
          "symbol": "AY"
         },
         {
          "symbol": "BZ"
         },
         {
          "symbol": "1"
         },
         {
          "symbol": "CY"
         },
         {
          "symbol": "AX"
         },
         {
          "symbol": "BY"
         },
         {
          "symbol": "BY"
         },
         {
          "symbol": "1"
         },
         {
          "symbol": "AZ"
         },
         {
          "symbol": "AX"
         },
         {
          "symbol": "AZ"
         },
         {
          "symbol": "BY"
         },
         {
          "symbol": "AX"
         },
         {
          "symbol": "1"
         },
         {
          "symbol": "AX"
         },
         {
          "symbol": "CY"
         },
         {
          "symbol": "BY"
         },
         {
          "symbol": "AX"
         },
         {
          "symbol": "1"
         },
         {
          "symbol": "CX"
         },
         {
          "symbol": "BY"
         },
         {
          "symbol": "BY"
         },
         {
          "symbol": "2"
         },
         {
          "symbol": "BY"
         },
         {
          "symbol": "BY"
         },
         {
          "symbol": "2"
         },
         {
          "symbol": "CY"
         },
         {
          "symbol": "AX"
         },
         {
          "symbol": "CY"
         },
         {
          "symbol": "AX"
         },
         {
          "symbol": "BY"
         },
         {
          "symbol": "2"
         },
         {
          "symbol": "AZ"
         },
         {
          "symbol": "AX"
         },
         {
          "symbol": "AX"
         },
         {
          "symbol": "CZ"
         },
         {
          "symbol": "BY"
         },
         {
          "symbol": "2"
         },
         {
          "symbol": "BY"
         },
         {
          "symbol": "BY"
         },
         {
          "symbol": "AX"
         },
         {
          "symbol": "BX"
         },
         {
          "symbol": "1"
         },
         {
          "symbol": "AX"
         },
         {
          "symbol": "BX"
         },
         {
          "symbol": "AX"
         },
         {
          "symbol": "AZ"
         },
         {
          "symbol": "CZ"
         },
         {
          "symbol": "1"
         },
         {
          "symbol": "BY"
         },
         {
          "symbol": "BY"
         },
         {
          "symbol": "2"
         },
         {
          "symbol": "BY"
         },
         {
          "symbol": "CY"
         },
         {
          "symbol": "AY"
         },
         {
          "symbol": "2"
         },
         {
          "symbol": "BY"
         },
         {
          "symbol": "AZ"
         },
         {
          "symbol": "BY"
         },
         {
          "symbol": "BY"
         },
         {
          "symbol": "CX"
         },
         {
          "symbol": "2"
         },
         {
          "symbol": "BY"
         },
         {
          "symbol": "BY"
         },
         {
          "symbol": "BY"
         },
         {
          "symbol": "BX"
         },
         {
          "symbol": "AX"
         },
         {
          "symbol": "1"
         },
         {
          "symbol": "AX"
         },
         {
          "symbol": "AX"
         },
         {
          "symbol": "AX"
         },
         {
          "symbol": "1"
         },
         {
          "symbol": "AZ"
         },
         {
          "symbol": "BY"
         },
         {
          "symbol": "BY"
         },
         {
          "symbol": "AX"
         },
         {
          "symbol": "2"
         },
         {
          "symbol": "CX"
         },
         {
          "symbol": "CX"
         },
         {
          "symbol": "2"
         },
         {
          "symbol": "AZ"
         },
         {
          "symbol": "BX"
         },
         {
          "symbol": "2"
         },
         {
          "symbol": "AX"
         },
         {
          "symbol": "AX"
         },
         {
          "symbol": "CY"
         },
         {
          "symbol": "BY"
         },
         {
          "symbol": "AX"
         },
         {
          "symbol": "1"
         },
         {
          "symbol": "AZ"
         },
         {
          "symbol": "AX"
         },
         {
          "symbol": "AX"
         },
         {
          "symbol": "CZ"
         },
         {
          "symbol": "CZ"
         },
         {
          "symbol": "2"
         },
         {
          "symbol": "BY"
         },
         {
          "symbol": "CZ"
         },
         {
          "symbol": "CX"
         },
         {
          "symbol": "AX"
         },
         {
          "symbol": "BY"
         },
         {
          "symbol": "2"
         },
         {
          "symbol": "BY"
         },
         {
          "symbol": "AX"
         },
         {
          "symbol": "BY"
         },
         {
          "symbol": "AY"
         },
         {
          "symbol": "AX"
         },
         {
          "symbol": "1"
         },
         {
          "symbol": "AZ"
         },
         {
          "symbol": "CY"
         },
         {
          "symbol": "BY"
         },
         {
          "symbol": "1"
         },
         {
          "symbol": "AX"
         },
         {
          "symbol": "CY"
         },
         {
          "symbol": "BY"
         },
         {
          "symbol": "1"
         },
         {
          "symbol": "BY"
         },
         {
          "symbol": "BX"
         },
         {
          "symbol": "BY"
         },
         {
          "symbol": "AX"
         },
         {
          "symbol": "AX"
         },
         {
          "symbol": "2"
         },
         {
          "symbol": "AY"
         },
         {
          "symbol": "CZ"
         },
         {
          "symbol": "BZ"
         },
         {
          "symbol": "2"
         },
         {
          "symbol": "AX"
         },
         {
          "symbol": "AZ"
         },
         {
          "symbol": "2"
         },
         {
          "symbol": "BY"
         },
         {
          "symbol": "AZ"
         },
         {
          "symbol": "BY"
         },
         {
          "symbol": "AX"
         },
         {
          "symbol": "BY"
         },
         {
          "symbol": "1"
         },
         {
          "symbol": "BY"
         },
         {
          "symbol": "BY"
         },
         {
          "symbol": "1"
         },
         {
          "symbol": "AX"
         },
         {
          "symbol": "BX"
         },
         {
          "symbol": "BY"
         },
         {
          "symbol": "AX"
         },
         {
          "symbol": "1"
         },
         {
          "symbol": "AX"
         },
         {
          "symbol": "AY"
         },
         {
          "symbol": "1"
         },
         {
          "symbol": "CY"
         },
         {
          "symbol": "AX"
         },
         {
          "symbol": "1"
         },
         {
          "symbol": "AX"
         },
         {
          "symbol": "AX"
         },
         {
          "symbol": "AX"
         },
         {
          "symbol": "1"
         },
         {
          "symbol": "CY"
         },
         {
          "symbol": "AY"
         },
         {
          "symbol": "2"
         },
         {
          "symbol": "BY"
         },
         {
          "symbol": "AY"
         },
         {
          "symbol": "AX"
         },
         {
          "symbol": "BY"
         },
         {
          "symbol": "BX"
         },
         {
          "symbol": "2"
         },
         {
          "symbol": "BY"
         },
         {
          "symbol": "BZ"
         },
         {
          "symbol": "BZ"
         },
         {
          "symbol": "BY"
         },
         {
          "symbol": "1"
         },
         {
          "symbol": "CX"
         },
         {
          "symbol": "AZ"
         },
         {
          "symbol": "BX"
         },
         {
          "symbol": "BY"
         },
         {
          "symbol": "1"
         },
         {
          "symbol": "BZ"
         },
         {
          "symbol": "AX"
         },
         {
          "symbol": "BX"
         },
         {
          "symbol": "1"
         },
         {
          "symbol": "BZ"
         },
         {
          "symbol": "BY"
         },
         {
          "symbol": "2"
         },
         {
          "symbol": "BZ"
         },
         {
          "symbol": "CZ"
         },
         {
          "symbol": "AZ"
         },
         {
          "symbol": "BZ"
         },
         {
          "symbol": "BY"
         },
         {
          "symbol": "1"
         },
         {
          "symbol": "BY"
         },
         {
          "symbol": "AX"
         },
         {
          "symbol": "1"
         },
         {
          "symbol": "AZ"
         },
         {
          "symbol": "CX"
         },
         {
          "symbol": "1"
         },
         {
          "symbol": "CZ"
         },
         {
          "symbol": "AX"
         },
         {
          "symbol": "BX"
         },
         {
          "symbol": "AX"
         },
         {
          "symbol": "BY"
         },
         {
          "symbol": "2"
         },
         {
          "symbol": "AX"
         },
         {
          "symbol": "AX"
         },
         {
          "symbol": "AX"
         },
         {
          "symbol": "CX"
         },
         {
          "symbol": "1"
         },
         {
          "symbol": "AZ"
         },
         {
          "symbol": "BY"
         },
         {
          "symbol": "BY"
         },
         {
          "symbol": "AZ"
         },
         {
          "symbol": "AX"
         },
         {
          "symbol": "1"
         },
         {
          "symbol": "AX"
         },
         {
          "symbol": "BY"
         },
         {
          "symbol": "1"
         },
         {
          "symbol": "AY"
         },
         {
          "symbol": "CZ"
         },
         {
          "symbol": "AY"
         },
         {
          "symbol": "1"
         },
         {
          "symbol": "BY"
         },
         {
          "symbol": "BY"
         },
         {
          "symbol": "BY"
         },
         {
          "symbol": "AX"
         },
         {
          "symbol": "AX"
         },
         {
          "symbol": "2"
         },
         {
          "symbol": "AX"
         },
         {
          "symbol": "AX"
         },
         {
          "symbol": "1"
         },
         {
          "symbol": "BY"
         },
         {
          "symbol": "AZ"
         },
         {
          "symbol": "AX"
         },
         {
          "symbol": "1"
         },
         {
          "symbol": "BY"
         },
         {
          "symbol": "BY"
         },
         {
          "symbol": "AX"
         },
         {
          "symbol": "2"
         },
         {
          "symbol": "BY"
         },
         {
          "symbol": "CY"
         },
         {
          "symbol": "CX"
         },
         {
          "symbol": "BY"
         },
         {
          "symbol": "BY"
         },
         {
          "symbol": "1"
         },
         {
          "symbol": "BX"
         },
         {
          "symbol": "BY"
         },
         {
          "symbol": "2"
         },
         {
          "symbol": "BZ"
         },
         {
          "symbol": "BZ"
         },
         {
          "symbol": "AY"
         },
         {
          "symbol": "AX"
         },
         {
          "symbol": "1"
         },
         {
          "symbol": "AZ"
         },
         {
          "symbol": "BY"
         },
         {
          "symbol": "1"
         },
         {
          "symbol": "BZ"
         },
         {
          "symbol": "CY"
         },
         {
          "symbol": "AX"
         },
         {
          "symbol": "AX"
         },
         {
          "symbol": "AX"
         },
         {
          "symbol": "2"
         },
         {
          "symbol": "BY"
         },
         {
          "symbol": "AX"
         },
         {
          "symbol": "1"
         },
         {
          "symbol": "CX"
         },
         {
          "symbol": "CX"
         },
         {
          "symbol": "2"
         },
         {
          "symbol": "AX"
         },
         {
          "symbol": "AX"
         },
         {
          "symbol": "AZ"
         },
         {
          "symbol": "2"
         },
         {
          "symbol": "BY"
         },
         {
          "symbol": "CX"
         },
         {
          "symbol": "2"
         },
         {
          "symbol": "BY"
         },
         {
          "symbol": "CY"
         },
         {
          "symbol": "BY"
         },
         {
          "symbol": "BY"
         },
         {
          "symbol": "CZ"
         },
         {
          "symbol": "2"
         },
         {
          "symbol": "BY"
         },
         {
          "symbol": "AY"
         },
         {
          "symbol": "BY"
         },
         {
          "symbol": "BY"
         },
         {
          "symbol": "CX"
         },
         {
          "symbol": "2"
         },
         {
          "symbol": "BY"
         },
         {
          "symbol": "AY"
         },
         {
          "symbol": "AX"
         },
         {
          "symbol": "AX"
         },
         {
          "symbol": "BY"
         },
         {
          "symbol": "2"
         },
         {
          "symbol": "AX"
         },
         {
          "symbol": "AY"
         },
         {
          "symbol": "BY"
         },
         {
          "symbol": "AY"
         },
         {
          "symbol": "AX"
         },
         {
          "symbol": "1"
         },
         {
          "symbol": "BY"
         },
         {
          "symbol": "AX"
         },
         {
          "symbol": "2"
         },
         {
          "symbol": "BY"
         },
         {
          "symbol": "BY"
         },
         {
          "symbol": "CZ"
         },
         {
          "symbol": "CX"
         },
         {
          "symbol": "2"
         },
         {
          "symbol": "CY"
         },
         {
          "symbol": "BY"
         },
         {
          "symbol": "BY"
         },
         {
          "symbol": "AX"
         },
         {
          "symbol": "BY"
         },
         {
          "symbol": "1"
         },
         {
          "symbol": "BX"
         },
         {
          "symbol": "BY"
         },
         {
          "symbol": "AX"
         },
         {
          "symbol": "2"
         },
         {
          "symbol": "BX"
         },
         {
          "symbol": "AX"
         },
         {
          "symbol": "AX"
         },
         {
          "symbol": "AX"
         },
         {
          "symbol": "AX"
         },
         {
          "symbol": "2"
         },
         {
          "symbol": "AX"
         },
         {
          "symbol": "CX"
         },
         {
          "symbol": "2"
         },
         {
          "symbol": "BZ"
         },
         {
          "symbol": "BY"
         },
         {
          "symbol": "AX"
         },
         {
          "symbol": "AX"
         },
         {
          "symbol": "AX"
         },
         {
          "symbol": "2"
         },
         {
          "symbol": "BY"
         },
         {
          "symbol": "CZ"
         },
         {
          "symbol": "AX"
         },
         {
          "symbol": "AY"
         },
         {
          "symbol": "2"
         },
         {
          "symbol": "BY"
         },
         {
          "symbol": "AX"
         },
         {
          "symbol": "BY"
         },
         {
          "symbol": "BX"
         },
         {
          "symbol": "2"
         },
         {
          "symbol": "BY"
         },
         {
          "symbol": "AX"
         },
         {
          "symbol": "2"
         },
         {
          "symbol": "AX"
         },
         {
          "symbol": "BY"
         },
         {
          "symbol": "AX"
         },
         {
          "symbol": "AX"
         },
         {
          "symbol": "AY"
         },
         {
          "symbol": "1"
         },
         {
          "symbol": "BY"
         },
         {
          "symbol": "AX"
         },
         {
          "symbol": "CY"
         },
         {
          "symbol": "AZ"
         },
         {
          "symbol": "CZ"
         },
         {
          "symbol": "1"
         },
         {
          "symbol": "AZ"
         },
         {
          "symbol": "CZ"
         },
         {
          "symbol": "CZ"
         },
         {
          "symbol": "2"
         },
         {
          "symbol": "AZ"
         },
         {
          "symbol": "BY"
         },
         {
          "symbol": "AZ"
         },
         {
          "symbol": "BY"
         },
         {
          "symbol": "AX"
         },
         {
          "symbol": "2"
         },
         {
          "symbol": "BY"
         },
         {
          "symbol": "AX"
         },
         {
          "symbol": "BY"
         },
         {
          "symbol": "CY"
         },
         {
          "symbol": "1"
         },
         {
          "symbol": "BY"
         },
         {
          "symbol": "AX"
         },
         {
          "symbol": "BY"
         },
         {
          "symbol": "AX"
         },
         {
          "symbol": "2"
         },
         {
          "symbol": "AY"
         },
         {
          "symbol": "BY"
         },
         {
          "symbol": "2"
         },
         {
          "symbol": "BY"
         },
         {
          "symbol": "CX"
         },
         {
          "symbol": "BY"
         },
         {
          "symbol": "2"
         },
         {
          "symbol": "CZ"
         },
         {
          "symbol": "BY"
         },
         {
          "symbol": "1"
         },
         {
          "symbol": "AY"
         },
         {
          "symbol": "BY"
         },
         {
          "symbol": "1"
         },
         {
          "symbol": "AX"
         },
         {
          "symbol": "AZ"
         },
         {
          "symbol": "AX"
         },
         {
          "symbol": "2"
         },
         {
          "symbol": "AX"
         },
         {
          "symbol": "AX"
         },
         {
          "symbol": "1"
         },
         {
          "symbol": "BY"
         },
         {
          "symbol": "AX"
         },
         {
          "symbol": "BY"
         },
         {
          "symbol": "AX"
         },
         {
          "symbol": "BY"
         },
         {
          "symbol": "2"
         },
         {
          "symbol": "BZ"
         },
         {
          "symbol": "BY"
         },
         {
          "symbol": "AX"
         },
         {
          "symbol": "BY"
         },
         {
          "symbol": "1"
         },
         {
          "symbol": "AX"
         },
         {
          "symbol": "BY"
         },
         {
          "symbol": "AY"
         },
         {
          "symbol": "1"
         },
         {
          "symbol": "AX"
         },
         {
          "symbol": "BY"
         },
         {
          "symbol": "CZ"
         },
         {
          "symbol": "AY"
         },
         {
          "symbol": "2"
         },
         {
          "symbol": "AY"
         },
         {
          "symbol": "CY"
         },
         {
          "symbol": "AX"
         },
         {
          "symbol": "1"
         },
         {
          "symbol": "BY"
         },
         {
          "symbol": "AX"
         },
         {
          "symbol": "1"
         },
         {
          "symbol": "AX"
         },
         {
          "symbol": "AX"
         },
         {
          "symbol": "AX"
         },
         {
          "symbol": "AY"
         },
         {
          "symbol": "1"
         },
         {
          "symbol": "AX"
         },
         {
          "symbol": "AX"
         },
         {
          "symbol": "AX"
         },
         {
          "symbol": "BY"
         },
         {
          "symbol": "1"
         },
         {
          "symbol": "CX"
         },
         {
          "symbol": "BX"
         },
         {
          "symbol": "BZ"
         },
         {
          "symbol": "1"
         },
         {
          "symbol": "AZ"
         },
         {
          "symbol": "CZ"
         },
         {
          "symbol": "BZ"
         },
         {
          "symbol": "AX"
         },
         {
          "symbol": "2"
         },
         {
          "symbol": "AX"
         },
         {
          "symbol": "BY"
         },
         {
          "symbol": "BY"
         },
         {
          "symbol": "CZ"
         },
         {
          "symbol": "AZ"
         },
         {
          "symbol": "1"
         },
         {
          "symbol": "BY"
         },
         {
          "symbol": "AX"
         },
         {
          "symbol": "2"
         },
         {
          "symbol": "BY"
         },
         {
          "symbol": "BY"
         },
         {
          "symbol": "AX"
         },
         {
          "symbol": "AY"
         },
         {
          "symbol": "CZ"
         },
         {
          "symbol": "1"
         },
         {
          "symbol": "BZ"
         },
         {
          "symbol": "AX"
         },
         {
          "symbol": "CZ"
         },
         {
          "symbol": "2"
         },
         {
          "symbol": "BX"
         },
         {
          "symbol": "AX"
         },
         {
          "symbol": "AX"
         },
         {
          "symbol": "BY"
         },
         {
          "symbol": "2"
         },
         {
          "symbol": "BX"
         },
         {
          "symbol": "BZ"
         },
         {
          "symbol": "BY"
         },
         {
          "symbol": "CY"
         },
         {
          "symbol": "BY"
         },
         {
          "symbol": "2"
         },
         {
          "symbol": "CX"
         },
         {
          "symbol": "BY"
         },
         {
          "symbol": "BY"
         },
         {
          "symbol": "2"
         },
         {
          "symbol": "AX"
         },
         {
          "symbol": "AY"
         },
         {
          "symbol": "1"
         },
         {
          "symbol": "AX"
         },
         {
          "symbol": "AX"
         },
         {
          "symbol": "BY"
         },
         {
          "symbol": "BX"
         },
         {
          "symbol": "1"
         },
         {
          "symbol": "AX"
         },
         {
          "symbol": "BY"
         },
         {
          "symbol": "BY"
         },
         {
          "symbol": "CX"
         },
         {
          "symbol": "1"
         },
         {
          "symbol": "BY"
         },
         {
          "symbol": "CZ"
         },
         {
          "symbol": "BY"
         },
         {
          "symbol": "CY"
         },
         {
          "symbol": "BY"
         },
         {
          "symbol": "1"
         },
         {
          "symbol": "AX"
         },
         {
          "symbol": "BX"
         },
         {
          "symbol": "BY"
         },
         {
          "symbol": "AY"
         },
         {
          "symbol": "2"
         },
         {
          "symbol": "BY"
         },
         {
          "symbol": "BX"
         },
         {
          "symbol": "BZ"
         },
         {
          "symbol": "AX"
         },
         {
          "symbol": "2"
         },
         {
          "symbol": "CZ"
         },
         {
          "symbol": "AX"
         },
         {
          "symbol": "2"
         },
         {
          "symbol": "BX"
         },
         {
          "symbol": "BY"
         },
         {
          "symbol": "1"
         },
         {
          "symbol": "CY"
         },
         {
          "symbol": "AX"
         },
         {
          "symbol": "AZ"
         },
         {
          "symbol": "AX"
         },
         {
          "symbol": "AZ"
         },
         {
          "symbol": "1"
         },
         {
          "symbol": "CX"
         },
         {
          "symbol": "BX"
         },
         {
          "symbol": "AX"
         },
         {
          "symbol": "CX"
         },
         {
          "symbol": "AZ"
         },
         {
          "symbol": "1"
         },
         {
          "symbol": "AZ"
         },
         {
          "symbol": "BZ"
         },
         {
          "symbol": "BX"
         },
         {
          "symbol": "BY"
         },
         {
          "symbol": "CY"
         },
         {
          "symbol": "2"
         },
         {
          "symbol": "BY"
         },
         {
          "symbol": "BX"
         },
         {
          "symbol": "AX"
         },
         {
          "symbol": "AX"
         },
         {
          "symbol": "AX"
         },
         {
          "symbol": "1"
         },
         {
          "symbol": "AX"
         },
         {
          "symbol": "CY"
         },
         {
          "symbol": "1"
         },
         {
          "symbol": "BZ"
         },
         {
          "symbol": "BY"
         },
         {
          "symbol": "2"
         },
         {
          "symbol": "BZ"
         },
         {
          "symbol": "AX"
         },
         {
          "symbol": "2"
         },
         {
          "symbol": "BZ"
         },
         {
          "symbol": "CZ"
         },
         {
          "symbol": "BY"
         },
         {
          "symbol": "AX"
         },
         {
          "symbol": "2"
         },
         {
          "symbol": "BY"
         },
         {
          "symbol": "AY"
         },
         {
          "symbol": "BX"
         },
         {
          "symbol": "BX"
         },
         {
          "symbol": "CX"
         },
         {
          "symbol": "1"
         },
         {
          "symbol": "BY"
         },
         {
          "symbol": "BY"
         },
         {
          "symbol": "1"
         },
         {
          "symbol": "AY"
         },
         {
          "symbol": "AZ"
         },
         {
          "symbol": "BZ"
         },
         {
          "symbol": "BX"
         },
         {
          "symbol": "1"
         },
         {
          "symbol": "AZ"
         },
         {
          "symbol": "AX"
         },
         {
          "symbol": "2"
         },
         {
          "symbol": "BY"
         },
         {
          "symbol": "BY"
         },
         {
          "symbol": "1"
         },
         {
          "symbol": "CX"
         },
         {
          "symbol": "AX"
         },
         {
          "symbol": "1"
         },
         {
          "symbol": "BY"
         },
         {
          "symbol": "AZ"
         },
         {
          "symbol": "AX"
         },
         {
          "symbol": "AZ"
         },
         {
          "symbol": "AY"
         },
         {
          "symbol": "1"
         },
         {
          "symbol": "BY"
         },
         {
          "symbol": "BX"
         },
         {
          "symbol": "BY"
         },
         {
          "symbol": "2"
         },
         {
          "symbol": "CZ"
         },
         {
          "symbol": "CX"
         },
         {
          "symbol": "2"
         },
         {
          "symbol": "AZ"
         },
         {
          "symbol": "BY"
         },
         {
          "symbol": "1"
         },
         {
          "symbol": "BY"
         },
         {
          "symbol": "AX"
         },
         {
          "symbol": "BY"
         },
         {
          "symbol": "AX"
         },
         {
          "symbol": "2"
         },
         {
          "symbol": "BY"
         },
         {
          "symbol": "AZ"
         },
         {
          "symbol": "AZ"
         },
         {
          "symbol": "2"
         },
         {
          "symbol": "AX"
         },
         {
          "symbol": "AX"
         },
         {
          "symbol": "AX"
         },
         {
          "symbol": "2"
         },
         {
          "symbol": "BY"
         },
         {
          "symbol": "BX"
         },
         {
          "symbol": "AX"
         },
         {
          "symbol": "1"
         },
         {
          "symbol": "AX"
         },
         {
          "symbol": "BY"
         },
         {
          "symbol": "CX"
         },
         {
          "symbol": "AX"
         },
         {
          "symbol": "2"
         },
         {
          "symbol": "AX"
         },
         {
          "symbol": "AX"
         },
         {
          "symbol": "AX"
         },
         {
          "symbol": "BY"
         },
         {
          "symbol": "CX"
         },
         {
          "symbol": "2"
         },
         {
          "symbol": "AX"
         },
         {
          "symbol": "BX"
         },
         {
          "symbol": "AX"
         },
         {
          "symbol": "2"
         },
         {
          "symbol": "BZ"
         },
         {
          "symbol": "BY"
         },
         {
          "symbol": "AX"
         },
         {
          "symbol": "2"
         },
         {
          "symbol": "BY"
         },
         {
          "symbol": "BX"
         },
         {
          "symbol": "1"
         },
         {
          "symbol": "CY"
         },
         {
          "symbol": "AY"
         },
         {
          "symbol": "BY"
         },
         {
          "symbol": "AY"
         },
         {
          "symbol": "1"
         },
         {
          "symbol": "BX"
         },
         {
          "symbol": "AX"
         },
         {
          "symbol": "BY"
         },
         {
          "symbol": "BY"
         },
         {
          "symbol": "2"
         },
         {
          "symbol": "AX"
         },
         {
          "symbol": "AX"
         },
         {
          "symbol": "BZ"
         },
         {
          "symbol": "AZ"
         },
         {
          "symbol": "2"
         },
         {
          "symbol": "BY"
         },
         {
          "symbol": "BY"
         },
         {
          "symbol": "BY"
         },
         {
          "symbol": "1"
         },
         {
          "symbol": "BY"
         },
         {
          "symbol": "BX"
         },
         {
          "symbol": "2"
         },
         {
          "symbol": "BX"
         },
         {
          "symbol": "CZ"
         },
         {
          "symbol": "BX"
         },
         {
          "symbol": "AX"
         },
         {
          "symbol": "BZ"
         },
         {
          "symbol": "2"
         },
         {
          "symbol": "AX"
         },
         {
          "symbol": "BY"
         },
         {
          "symbol": "AY"
         },
         {
          "symbol": "BY"
         },
         {
          "symbol": "AY"
         },
         {
          "symbol": "2"
         },
         {
          "symbol": "BZ"
         },
         {
          "symbol": "AX"
         },
         {
          "symbol": "BY"
         },
         {
          "symbol": "BY"
         },
         {
          "symbol": "2"
         },
         {
          "symbol": "BZ"
         },
         {
          "symbol": "AY"
         },
         {
          "symbol": "BY"
         },
         {
          "symbol": "BY"
         },
         {
          "symbol": "1"
         },
         {
          "symbol": "AX"
         },
         {
          "symbol": "BX"
         },
         {
          "symbol": "1"
         },
         {
          "symbol": "AX"
         },
         {
          "symbol": "CY"
         },
         {
          "symbol": "BY"
         },
         {
          "symbol": "1"
         },
         {
          "symbol": "CX"
         },
         {
          "symbol": "AY"
         },
         {
          "symbol": "BZ"
         },
         {
          "symbol": "CY"
         },
         {
          "symbol": "AX"
         },
         {
          "symbol": "1"
         },
         {
          "symbol": "AZ"
         },
         {
          "symbol": "BY"
         },
         {
          "symbol": "BY"
         },
         {
          "symbol": "2"
         },
         {
          "symbol": "CX"
         },
         {
          "symbol": "BY"
         },
         {
          "symbol": "BZ"
         },
         {
          "symbol": "BY"
         },
         {
          "symbol": "1"
         },
         {
          "symbol": "CZ"
         },
         {
          "symbol": "BY"
         },
         {
          "symbol": "AX"
         },
         {
          "symbol": "2"
         },
         {
          "symbol": "BY"
         },
         {
          "symbol": "BZ"
         },
         {
          "symbol": "AX"
         },
         {
          "symbol": "BX"
         },
         {
          "symbol": "2"
         },
         {
          "symbol": "BY"
         },
         {
          "symbol": "AX"
         },
         {
          "symbol": "AY"
         },
         {
          "symbol": "2"
         },
         {
          "symbol": "BY"
         },
         {
          "symbol": "BY"
         },
         {
          "symbol": "1"
         },
         {
          "symbol": "CZ"
         },
         {
          "symbol": "AZ"
         },
         {
          "symbol": "BY"
         },
         {
          "symbol": "BY"
         },
         {
          "symbol": "1"
         },
         {
          "symbol": "BY"
         },
         {
          "symbol": "BZ"
         },
         {
          "symbol": "AX"
         },
         {
          "symbol": "BY"
         },
         {
          "symbol": "2"
         },
         {
          "symbol": "AX"
         },
         {
          "symbol": "BX"
         },
         {
          "symbol": "AZ"
         },
         {
          "symbol": "1"
         },
         {
          "symbol": "CZ"
         },
         {
          "symbol": "BY"
         },
         {
          "symbol": "AX"
         },
         {
          "symbol": "AX"
         },
         {
          "symbol": "AZ"
         },
         {
          "symbol": "2"
         },
         {
          "symbol": "AZ"
         },
         {
          "symbol": "BY"
         },
         {
          "symbol": "1"
         },
         {
          "symbol": "BY"
         },
         {
          "symbol": "BZ"
         },
         {
          "symbol": "AX"
         },
         {
          "symbol": "AZ"
         },
         {
          "symbol": "AY"
         },
         {
          "symbol": "1"
         },
         {
          "symbol": "BY"
         },
         {
          "symbol": "BY"
         },
         {
          "symbol": "AZ"
         },
         {
          "symbol": "AX"
         },
         {
          "symbol": "1"
         },
         {
          "symbol": "BZ"
         },
         {
          "symbol": "AZ"
         },
         {
          "symbol": "AX"
         },
         {
          "symbol": "AX"
         },
         {
          "symbol": "BY"
         },
         {
          "symbol": "1"
         },
         {
          "symbol": "AX"
         },
         {
          "symbol": "AX"
         },
         {
          "symbol": "1"
         },
         {
          "symbol": "AX"
         },
         {
          "symbol": "AX"
         },
         {
          "symbol": "BZ"
         },
         {
          "symbol": "BY"
         },
         {
          "symbol": "2"
         },
         {
          "symbol": "CZ"
         },
         {
          "symbol": "BY"
         },
         {
          "symbol": "1"
         },
         {
          "symbol": "CY"
         },
         {
          "symbol": "BY"
         },
         {
          "symbol": "BY"
         },
         {
          "symbol": "BY"
         },
         {
          "symbol": "BY"
         },
         {
          "symbol": "1"
         },
         {
          "symbol": "AX"
         },
         {
          "symbol": "AX"
         },
         {
          "symbol": "1"
         },
         {
          "symbol": "CY"
         },
         {
          "symbol": "BY"
         },
         {
          "symbol": "BY"
         },
         {
          "symbol": "AX"
         },
         {
          "symbol": "2"
         },
         {
          "symbol": "AY"
         },
         {
          "symbol": "BY"
         },
         {
          "symbol": "BY"
         },
         {
          "symbol": "CX"
         },
         {
          "symbol": "AX"
         },
         {
          "symbol": "2"
         },
         {
          "symbol": "BY"
         },
         {
          "symbol": "AZ"
         },
         {
          "symbol": "AX"
         },
         {
          "symbol": "CY"
         },
         {
          "symbol": "BY"
         },
         {
          "symbol": "1"
         },
         {
          "symbol": "BZ"
         },
         {
          "symbol": "BY"
         },
         {
          "symbol": "2"
         },
         {
          "symbol": "AX"
         },
         {
          "symbol": "BZ"
         },
         {
          "symbol": "BY"
         },
         {
          "symbol": "AZ"
         },
         {
          "symbol": "1"
         },
         {
          "symbol": "BX"
         },
         {
          "symbol": "CZ"
         },
         {
          "symbol": "AX"
         },
         {
          "symbol": "2"
         },
         {
          "symbol": "BY"
         },
         {
          "symbol": "AZ"
         },
         {
          "symbol": "BY"
         },
         {
          "symbol": "AX"
         },
         {
          "symbol": "1"
         },
         {
          "symbol": "BX"
         },
         {
          "symbol": "BY"
         },
         {
          "symbol": "BY"
         },
         {
          "symbol": "AZ"
         },
         {
          "symbol": "BY"
         },
         {
          "symbol": "1"
         },
         {
          "symbol": "BY"
         },
         {
          "symbol": "AX"
         },
         {
          "symbol": "BZ"
         },
         {
          "symbol": "AY"
         },
         {
          "symbol": "AY"
         },
         {
          "symbol": "2"
         },
         {
          "symbol": "AX"
         },
         {
          "symbol": "BX"
         },
         {
          "symbol": "BZ"
         },
         {
          "symbol": "2"
         },
         {
          "symbol": "AX"
         },
         {
          "symbol": "AX"
         },
         {
          "symbol": "BY"
         },
         {
          "symbol": "BY"
         },
         {
          "symbol": "CZ"
         },
         {
          "symbol": "1"
         },
         {
          "symbol": "BY"
         },
         {
          "symbol": "CX"
         },
         {
          "symbol": "1"
         },
         {
          "symbol": "AY"
         },
         {
          "symbol": "BZ"
         },
         {
          "symbol": "AZ"
         },
         {
          "symbol": "BY"
         },
         {
          "symbol": "2"
         },
         {
          "symbol": "BY"
         },
         {
          "symbol": "BY"
         },
         {
          "symbol": "BY"
         },
         {
          "symbol": "2"
         },
         {
          "symbol": "AX"
         },
         {
          "symbol": "AX"
         },
         {
          "symbol": "AX"
         },
         {
          "symbol": "1"
         },
         {
          "symbol": "BY"
         },
         {
          "symbol": "BY"
         },
         {
          "symbol": "CX"
         },
         {
          "symbol": "1"
         },
         {
          "symbol": "BY"
         },
         {
          "symbol": "AX"
         },
         {
          "symbol": "CY"
         },
         {
          "symbol": "2"
         },
         {
          "symbol": "BY"
         },
         {
          "symbol": "BY"
         },
         {
          "symbol": "BY"
         },
         {
          "symbol": "1"
         },
         {
          "symbol": "AX"
         },
         {
          "symbol": "AX"
         },
         {
          "symbol": "1"
         },
         {
          "symbol": "AX"
         },
         {
          "symbol": "AX"
         },
         {
          "symbol": "AX"
         },
         {
          "symbol": "2"
         },
         {
          "symbol": "BZ"
         },
         {
          "symbol": "CZ"
         },
         {
          "symbol": "AX"
         },
         {
          "symbol": "BY"
         },
         {
          "symbol": "BZ"
         },
         {
          "symbol": "1"
         },
         {
          "symbol": "BY"
         },
         {
          "symbol": "BY"
         },
         {
          "symbol": "BY"
         },
         {
          "symbol": "BY"
         },
         {
          "symbol": "AX"
         },
         {
          "symbol": "2"
         },
         {
          "symbol": "BY"
         },
         {
          "symbol": "AX"
         },
         {
          "symbol": "AX"
         },
         {
          "symbol": "AX"
         },
         {
          "symbol": "2"
         },
         {
          "symbol": "AX"
         },
         {
          "symbol": "CY"
         },
         {
          "symbol": "AX"
         },
         {
          "symbol": "BX"
         },
         {
          "symbol": "BY"
         },
         {
          "symbol": "2"
         },
         {
          "symbol": "BY"
         },
         {
          "symbol": "AZ"
         },
         {
          "symbol": "1"
         },
         {
          "symbol": "BZ"
         },
         {
          "symbol": "AX"
         },
         {
          "symbol": "1"
         },
         {
          "symbol": "BY"
         },
         {
          "symbol": "BY"
         },
         {
          "symbol": "BY"
         },
         {
          "symbol": "BY"
         },
         {
          "symbol": "AZ"
         },
         {
          "symbol": "1"
         },
         {
          "symbol": "AY"
         },
         {
          "symbol": "AX"
         },
         {
          "symbol": "BX"
         },
         {
          "symbol": "AX"
         },
         {
          "symbol": "2"
         },
         {
          "symbol": "CX"
         },
         {
          "symbol": "CZ"
         },
         {
          "symbol": "AX"
         },
         {
          "symbol": "BX"
         },
         {
          "symbol": "AY"
         },
         {
          "symbol": "2"
         },
         {
          "symbol": "BY"
         },
         {
          "symbol": "CX"
         },
         {
          "symbol": "2"
         },
         {
          "symbol": "BY"
         },
         {
          "symbol": "AX"
         },
         {
          "symbol": "AX"
         },
         {
          "symbol": "1"
         },
         {
          "symbol": "BY"
         },
         {
          "symbol": "AX"
         },
         {
          "symbol": "AX"
         },
         {
          "symbol": "BY"
         },
         {
          "symbol": "CZ"
         },
         {
          "symbol": "2"
         },
         {
          "symbol": "BY"
         },
         {
          "symbol": "BY"
         },
         {
          "symbol": "AY"
         },
         {
          "symbol": "BY"
         },
         {
          "symbol": "BY"
         },
         {
          "symbol": "2"
         },
         {
          "symbol": "AX"
         },
         {
          "symbol": "BY"
         },
         {
          "symbol": "AZ"
         },
         {
          "symbol": "2"
         },
         {
          "symbol": "AX"
         },
         {
          "symbol": "AY"
         },
         {
          "symbol": "CY"
         },
         {
          "symbol": "2"
         },
         {
          "symbol": "AX"
         },
         {
          "symbol": "BX"
         },
         {
          "symbol": "AX"
         },
         {
          "symbol": "AX"
         },
         {
          "symbol": "1"
         },
         {
          "symbol": "BY"
         },
         {
          "symbol": "AX"
         },
         {
          "symbol": "2"
         },
         {
          "symbol": "AX"
         },
         {
          "symbol": "CX"
         },
         {
          "symbol": "AX"
         },
         {
          "symbol": "2"
         },
         {
          "symbol": "BX"
         },
         {
          "symbol": "BY"
         },
         {
          "symbol": "2"
         },
         {
          "symbol": "AX"
         },
         {
          "symbol": "AX"
         },
         {
          "symbol": "CY"
         },
         {
          "symbol": "1"
         },
         {
          "symbol": "BY"
         },
         {
          "symbol": "AZ"
         },
         {
          "symbol": "AX"
         },
         {
          "symbol": "AX"
         },
         {
          "symbol": "1"
         },
         {
          "symbol": "BY"
         },
         {
          "symbol": "AX"
         },
         {
          "symbol": "CY"
         },
         {
          "symbol": "CY"
         },
         {
          "symbol": "1"
         },
         {
          "symbol": "AX"
         },
         {
          "symbol": "AX"
         },
         {
          "symbol": "AX"
         },
         {
          "symbol": "BY"
         },
         {
          "symbol": "AZ"
         },
         {
          "symbol": "2"
         },
         {
          "symbol": "AY"
         },
         {
          "symbol": "AZ"
         },
         {
          "symbol": "1"
         },
         {
          "symbol": "CX"
         },
         {
          "symbol": "AX"
         },
         {
          "symbol": "AY"
         },
         {
          "symbol": "1"
         },
         {
          "symbol": "AZ"
         },
         {
          "symbol": "CZ"
         },
         {
          "symbol": "BY"
         },
         {
          "symbol": "BY"
         },
         {
          "symbol": "CX"
         },
         {
          "symbol": "2"
         },
         {
          "symbol": "BY"
         },
         {
          "symbol": "AZ"
         },
         {
          "symbol": "AX"
         },
         {
          "symbol": "AX"
         },
         {
          "symbol": "1"
         },
         {
          "symbol": "AX"
         },
         {
          "symbol": "BZ"
         },
         {
          "symbol": "CY"
         },
         {
          "symbol": "BZ"
         },
         {
          "symbol": "BY"
         },
         {
          "symbol": "1"
         },
         {
          "symbol": "BY"
         },
         {
          "symbol": "BY"
         },
         {
          "symbol": "BY"
         },
         {
          "symbol": "BY"
         },
         {
          "symbol": "2"
         },
         {
          "symbol": "AZ"
         },
         {
          "symbol": "BZ"
         },
         {
          "symbol": "AX"
         },
         {
          "symbol": "BY"
         },
         {
          "symbol": "2"
         },
         {
          "symbol": "AZ"
         },
         {
          "symbol": "BX"
         },
         {
          "symbol": "1"
         },
         {
          "symbol": "AX"
         },
         {
          "symbol": "AX"
         },
         {
          "symbol": "AX"
         },
         {
          "symbol": "BZ"
         },
         {
          "symbol": "2"
         },
         {
          "symbol": "AY"
         },
         {
          "symbol": "AX"
         },
         {
          "symbol": "1"
         },
         {
          "symbol": "BY"
         },
         {
          "symbol": "CZ"
         },
         {
          "symbol": "BY"
         },
         {
          "symbol": "AY"
         },
         {
          "symbol": "2"
         },
         {
          "symbol": "CX"
         },
         {
          "symbol": "BY"
         },
         {
          "symbol": "2"
         },
         {
          "symbol": "CZ"
         },
         {
          "symbol": "BY"
         },
         {
          "symbol": "BY"
         },
         {
          "symbol": "1"
         },
         {
          "symbol": "AX"
         },
         {
          "symbol": "BY"
         },
         {
          "symbol": "BY"
         },
         {
          "symbol": "AX"
         },
         {
          "symbol": "2"
         },
         {
          "symbol": "AY"
         },
         {
          "symbol": "AX"
         },
         {
          "symbol": "AZ"
         },
         {
          "symbol": "AX"
         },
         {
          "symbol": "CY"
         },
         {
          "symbol": "1"
         },
         {
          "symbol": "BY"
         },
         {
          "symbol": "BY"
         },
         {
          "symbol": "CZ"
         },
         {
          "symbol": "AX"
         },
         {
          "symbol": "2"
         },
         {
          "symbol": "AX"
         },
         {
          "symbol": "BY"
         },
         {
          "symbol": "BY"
         },
         {
          "symbol": "AX"
         },
         {
          "symbol": "1"
         },
         {
          "symbol": "BZ"
         },
         {
          "symbol": "CZ"
         },
         {
          "symbol": "2"
         },
         {
          "symbol": "AX"
         },
         {
          "symbol": "AX"
         },
         {
          "symbol": "AX"
         },
         {
          "symbol": "2"
         },
         {
          "symbol": "CY"
         },
         {
          "symbol": "AY"
         },
         {
          "symbol": "BY"
         },
         {
          "symbol": "2"
         },
         {
          "symbol": "AX"
         },
         {
          "symbol": "AY"
         },
         {
          "symbol": "BZ"
         },
         {
          "symbol": "1"
         },
         {
          "symbol": "AX"
         },
         {
          "symbol": "AY"
         },
         {
          "symbol": "BY"
         },
         {
          "symbol": "AZ"
         },
         {
          "symbol": "BX"
         },
         {
          "symbol": "2"
         },
         {
          "symbol": "BY"
         },
         {
          "symbol": "AY"
         },
         {
          "symbol": "BY"
         },
         {
          "symbol": "CY"
         },
         {
          "symbol": "2"
         },
         {
          "symbol": "AX"
         },
         {
          "symbol": "AX"
         },
         {
          "symbol": "AY"
         },
         {
          "symbol": "AX"
         },
         {
          "symbol": "2"
         },
         {
          "symbol": "BY"
         },
         {
          "symbol": "BY"
         },
         {
          "symbol": "BY"
         },
         {
          "symbol": "BZ"
         },
         {
          "symbol": "AX"
         },
         {
          "symbol": "1"
         },
         {
          "symbol": "BY"
         },
         {
          "symbol": "AX"
         },
         {
          "symbol": "AX"
         },
         {
          "symbol": "2"
         },
         {
          "symbol": "AX"
         },
         {
          "symbol": "CZ"
         },
         {
          "symbol": "AY"
         },
         {
          "symbol": "AX"
         },
         {
          "symbol": "BY"
         },
         {
          "symbol": "1"
         },
         {
          "symbol": "BY"
         },
         {
          "symbol": "AX"
         },
         {
          "symbol": "BY"
         },
         {
          "symbol": "2"
         },
         {
          "symbol": "AX"
         },
         {
          "symbol": "BY"
         },
         {
          "symbol": "CX"
         },
         {
          "symbol": "2"
         },
         {
          "symbol": "AX"
         },
         {
          "symbol": "BY"
         },
         {
          "symbol": "BZ"
         },
         {
          "symbol": "1"
         },
         {
          "symbol": "BX"
         },
         {
          "symbol": "AY"
         },
         {
          "symbol": "AY"
         },
         {
          "symbol": "1"
         },
         {
          "symbol": "CY"
         },
         {
          "symbol": "AZ"
         },
         {
          "symbol": "AX"
         },
         {
          "symbol": "BY"
         },
         {
          "symbol": "1"
         },
         {
          "symbol": "BY"
         },
         {
          "symbol": "CX"
         },
         {
          "symbol": "AZ"
         },
         {
          "symbol": "2"
         },
         {
          "symbol": "CZ"
         },
         {
          "symbol": "AX"
         },
         {
          "symbol": "BY"
         },
         {
          "symbol": "BY"
         },
         {
          "symbol": "BY"
         },
         {
          "symbol": "1"
         },
         {
          "symbol": "AX"
         },
         {
          "symbol": "BY"
         },
         {
          "symbol": "BY"
         },
         {
          "symbol": "2"
         },
         {
          "symbol": "AX"
         },
         {
          "symbol": "AZ"
         },
         {
          "symbol": "2"
         },
         {
          "symbol": "BY"
         },
         {
          "symbol": "CX"
         },
         {
          "symbol": "BZ"
         },
         {
          "symbol": "BZ"
         },
         {
          "symbol": "1"
         },
         {
          "symbol": "AX"
         },
         {
          "symbol": "BY"
         },
         {
          "symbol": "CZ"
         },
         {
          "symbol": "AY"
         },
         {
          "symbol": "AX"
         },
         {
          "symbol": "1"
         },
         {
          "symbol": "BY"
         },
         {
          "symbol": "CY"
         },
         {
          "symbol": "2"
         },
         {
          "symbol": "BY"
         },
         {
          "symbol": "BY"
         },
         {
          "symbol": "AX"
         },
         {
          "symbol": "CX"
         },
         {
          "symbol": "2"
         },
         {
          "symbol": "BY"
         },
         {
          "symbol": "BX"
         },
         {
          "symbol": "BY"
         },
         {
          "symbol": "1"
         },
         {
          "symbol": "AX"
         },
         {
          "symbol": "BZ"
         },
         {
          "symbol": "BY"
         },
         {
          "symbol": "AX"
         },
         {
          "symbol": "BY"
         },
         {
          "symbol": "2"
         },
         {
          "symbol": "BY"
         },
         {
          "symbol": "BY"
         },
         {
          "symbol": "BY"
         },
         {
          "symbol": "BZ"
         },
         {
          "symbol": "AY"
         },
         {
          "symbol": "2"
         },
         {
          "symbol": "AZ"
         },
         {
          "symbol": "AY"
         },
         {
          "symbol": "BY"
         },
         {
          "symbol": "AY"
         },
         {
          "symbol": "AX"
         },
         {
          "symbol": "2"
         },
         {
          "symbol": "BY"
         },
         {
          "symbol": "BZ"
         },
         {
          "symbol": "CX"
         },
         {
          "symbol": "2"
         },
         {
          "symbol": "AX"
         },
         {
          "symbol": "CZ"
         },
         {
          "symbol": "BX"
         },
         {
          "symbol": "BY"
         },
         {
          "symbol": "1"
         },
         {
          "symbol": "AX"
         },
         {
          "symbol": "AZ"
         },
         {
          "symbol": "CX"
         },
         {
          "symbol": "BY"
         },
         {
          "symbol": "2"
         },
         {
          "symbol": "AX"
         },
         {
          "symbol": "BX"
         },
         {
          "symbol": "CZ"
         },
         {
          "symbol": "BX"
         },
         {
          "symbol": "2"
         },
         {
          "symbol": "AX"
         },
         {
          "symbol": "BY"
         },
         {
          "symbol": "CZ"
         },
         {
          "symbol": "BY"
         },
         {
          "symbol": "BZ"
         },
         {
          "symbol": "1"
         },
         {
          "symbol": "CY"
         },
         {
          "symbol": "AX"
         },
         {
          "symbol": "BY"
         },
         {
          "symbol": "BX"
         },
         {
          "symbol": "AX"
         },
         {
          "symbol": "2"
         },
         {
          "symbol": "AZ"
         },
         {
          "symbol": "BY"
         },
         {
          "symbol": "BZ"
         },
         {
          "symbol": "BY"
         },
         {
          "symbol": "AY"
         },
         {
          "symbol": "1"
         },
         {
          "symbol": "AX"
         },
         {
          "symbol": "AX"
         },
         {
          "symbol": "2"
         },
         {
          "symbol": "BY"
         },
         {
          "symbol": "BY"
         },
         {
          "symbol": "1"
         },
         {
          "symbol": "AX"
         },
         {
          "symbol": "AX"
         },
         {
          "symbol": "BX"
         },
         {
          "symbol": "1"
         },
         {
          "symbol": "CY"
         },
         {
          "symbol": "AX"
         },
         {
          "symbol": "1"
         },
         {
          "symbol": "AX"
         },
         {
          "symbol": "CZ"
         },
         {
          "symbol": "BZ"
         },
         {
          "symbol": "1"
         },
         {
          "symbol": "BY"
         },
         {
          "symbol": "CY"
         },
         {
          "symbol": "AX"
         },
         {
          "symbol": "AX"
         },
         {
          "symbol": "AX"
         },
         {
          "symbol": "1"
         },
         {
          "symbol": "AX"
         },
         {
          "symbol": "BY"
         },
         {
          "symbol": "CX"
         },
         {
          "symbol": "AX"
         },
         {
          "symbol": "AY"
         },
         {
          "symbol": "1"
         },
         {
          "symbol": "BY"
         },
         {
          "symbol": "CX"
         },
         {
          "symbol": "AX"
         },
         {
          "symbol": "AY"
         },
         {
          "symbol": "2"
         },
         {
          "symbol": "BY"
         },
         {
          "symbol": "BX"
         },
         {
          "symbol": "BZ"
         },
         {
          "symbol": "BY"
         },
         {
          "symbol": "2"
         },
         {
          "symbol": "BY"
         },
         {
          "symbol": "CY"
         },
         {
          "symbol": "1"
         },
         {
          "symbol": "AY"
         },
         {
          "symbol": "BX"
         },
         {
          "symbol": "AX"
         },
         {
          "symbol": "2"
         },
         {
          "symbol": "BY"
         },
         {
          "symbol": "BY"
         },
         {
          "symbol": "CX"
         },
         {
          "symbol": "AX"
         },
         {
          "symbol": "2"
         },
         {
          "symbol": "AY"
         },
         {
          "symbol": "CZ"
         },
         {
          "symbol": "1"
         },
         {
          "symbol": "AX"
         },
         {
          "symbol": "CX"
         },
         {
          "symbol": "1"
         },
         {
          "symbol": "AX"
         },
         {
          "symbol": "AY"
         },
         {
          "symbol": "2"
         },
         {
          "symbol": "BY"
         },
         {
          "symbol": "AX"
         },
         {
          "symbol": "CX"
         },
         {
          "symbol": "BZ"
         },
         {
          "symbol": "1"
         },
         {
          "symbol": "AZ"
         },
         {
          "symbol": "BY"
         },
         {
          "symbol": "CX"
         },
         {
          "symbol": "2"
         },
         {
          "symbol": "BY"
         },
         {
          "symbol": "AY"
         },
         {
          "symbol": "AX"
         },
         {
          "symbol": "CX"
         },
         {
          "symbol": "CX"
         },
         {
          "symbol": "1"
         },
         {
          "symbol": "CY"
         },
         {
          "symbol": "BY"
         },
         {
          "symbol": "AZ"
         },
         {
          "symbol": "AX"
         },
         {
          "symbol": "1"
         },
         {
          "symbol": "CZ"
         },
         {
          "symbol": "AX"
         },
         {
          "symbol": "BY"
         },
         {
          "symbol": "BY"
         },
         {
          "symbol": "BZ"
         },
         {
          "symbol": "1"
         },
         {
          "symbol": "BY"
         },
         {
          "symbol": "AX"
         },
         {
          "symbol": "1"
         },
         {
          "symbol": "BZ"
         },
         {
          "symbol": "BY"
         },
         {
          "symbol": "AX"
         },
         {
          "symbol": "2"
         },
         {
          "symbol": "AX"
         },
         {
          "symbol": "AX"
         },
         {
          "symbol": "AX"
         },
         {
          "symbol": "2"
         },
         {
          "symbol": "AZ"
         },
         {
          "symbol": "BY"
         },
         {
          "symbol": "AX"
         },
         {
          "symbol": "AX"
         },
         {
          "symbol": "CX"
         },
         {
          "symbol": "1"
         },
         {
          "symbol": "CZ"
         },
         {
          "symbol": "CY"
         },
         {
          "symbol": "CX"
         },
         {
          "symbol": "BY"
         },
         {
          "symbol": "1"
         },
         {
          "symbol": "BY"
         },
         {
          "symbol": "AX"
         },
         {
          "symbol": "1"
         },
         {
          "symbol": "AZ"
         },
         {
          "symbol": "CY"
         },
         {
          "symbol": "BX"
         },
         {
          "symbol": "AX"
         },
         {
          "symbol": "CX"
         },
         {
          "symbol": "2"
         },
         {
          "symbol": "AX"
         },
         {
          "symbol": "BY"
         },
         {
          "symbol": "AX"
         },
         {
          "symbol": "CX"
         },
         {
          "symbol": "BY"
         },
         {
          "symbol": "1"
         },
         {
          "symbol": "AX"
         },
         {
          "symbol": "AX"
         },
         {
          "symbol": "BY"
         },
         {
          "symbol": "BY"
         },
         {
          "symbol": "BY"
         },
         {
          "symbol": "1"
         },
         {
          "symbol": "BX"
         },
         {
          "symbol": "AX"
         },
         {
          "symbol": "BZ"
         },
         {
          "symbol": "1"
         },
         {
          "symbol": "AX"
         },
         {
          "symbol": "AY"
         },
         {
          "symbol": "CY"
         },
         {
          "symbol": "AX"
         },
         {
          "symbol": "2"
         },
         {
          "symbol": "BZ"
         },
         {
          "symbol": "AY"
         },
         {
          "symbol": "AX"
         },
         {
          "symbol": "BY"
         },
         {
          "symbol": "2"
         },
         {
          "symbol": "AX"
         },
         {
          "symbol": "BY"
         },
         {
          "symbol": "AX"
         },
         {
          "symbol": "1"
         },
         {
          "symbol": "AX"
         },
         {
          "symbol": "AX"
         },
         {
          "symbol": "BY"
         }
        ]
       },
       "encoding": {
        "x": {
         "field": "symbol",
         "type": "nominal"
        },
        "y": {
         "aggregate": "count",
         "type": "quantitative"
        }
       },
       "mark": "bar",
       "selection": {
        "selector001": {
         "bind": "scales",
         "encodings": [
          "x",
          "y"
         ],
         "mark": {
          "fill": "#333",
          "fillOpacity": 0.125,
          "stroke": "white"
         },
         "on": "[mousedown, window:mouseup] > window:mousemove!",
         "resolve": "global",
         "translate": "[mousedown, window:mouseup] > window:mousemove!",
         "type": "interval",
         "zoom": "wheel!"
        }
       }
      },
      "image/png": "[encoded data removed]",
      "text/plain": [
       "<VegaLite 2 object>\n",
       "\n",
       "If you see this message, it means the renderer has not been properly enabled\n",
       "for the frontend that you are using. For more information, see\n",
       "https://altair-viz.github.io/user_guide/troubleshooting.html\n"
      ]
     },
     "execution_count": 6,
     "metadata": {},
     "output_type": "execute_result"
    }
   ],
   "source": [
    "# Create dataframe for viz\n",
    "df = pd.DataFrame(data=out_seq, columns=[\"symbol\"])\n",
    "print(len(out_seq))\n",
    "# contruct a char\n",
    "\n",
    "alt.Chart(data=df).mark_bar().encode(\n",
    "    x=\"symbol\",\n",
    "    y=\"count()\"\n",
    ").interactive()\n"
   ]
  },
  {
   "cell_type": "code",
   "execution_count": 11,
   "metadata": {},
   "outputs": [],
   "source": [
    "n_out = [25, 50, 100, 150, 200, 250, 300, 350]\n",
    "n_in = [4, 5, 6, 8, 10]\n",
    "pct = [[], [], [], [], []]\n",
    "\n",
    "for k, j in enumerate(n_in):\n",
    "\n",
    "    for i in n_out:\n",
    "\n",
    "        seq, rsp, out_seq = generate_sequence(possible_n_inner=np.arange(1, j+1)+1, n_outer=i, seed=95)\n",
    "        inp = encode_input(sequence=seq)\n",
    "        dat = Dataset(sequence=seq, response=rsp, encoding=inp)\n",
    "\n",
    "        t = dat.segment()\n",
    "        pct[k].append((len(np.unique(t))/len(t)))"
   ]
  },
  {
   "cell_type": "code",
   "execution_count": 12,
   "metadata": {},
   "outputs": [
    {
     "data": {
      "image/png": "[encoded data removed]",
      "text/plain": [
       "<Figure size 576x432 with 1 Axes>"
      ]
     },
     "metadata": {
      "needs_background": "light"
     },
     "output_type": "display_data"
    }
   ],
   "source": [
    "plt.figure()\n",
    "for k, j in enumerate(n_in):\n",
    "\n",
    "    plt.plot(np.array(n_out), np.array(pct[k]).T, '--o', label=\"n_inner: {}\".format(j))\n",
    "    plt.ylim(0, 1.1)\n",
    "    plt.legend(loc=\"best\")\n",
    "\n",
    "plt.ylabel(\"prop. unique\")\n",
    "plt.xlabel(\"N. outer loops\")\n",
    "plt.title(\"Input sequence expressivity\")\n",
    "plt.show()"
   ]
  },
  {
   "cell_type": "markdown",
   "metadata": {},
   "source": [
    "Create a shorter Pytorch dataset subclass"
   ]
  },
  {
   "cell_type": "code",
   "execution_count": null,
   "metadata": {},
   "outputs": [],
   "source": [
    "# Use less trials\n",
    "seq2, rsp2, out_seq2 = generate_sequence(n_inner=4, n_outer=2, seed=95)\n",
    "print(seq2)\n",
    "inp2 = encode_input(sequence=seq2)\n",
    "print(inp2.shape)\n",
    "ds2 = Dataset(sequence=seq2, response=rsp2, encoding=inp2)\n",
    "print(ds2.encoding.shape)"
   ]
  },
  {
   "cell_type": "markdown",
   "metadata": {},
   "source": [
    "### Network set up"
   ]
  },
  {
   "cell_type": "code",
   "execution_count": null,
   "metadata": {},
   "outputs": [],
   "source": [
    "# Set up the network architecture and define parameters\n",
    "net = SNN(params=parameters, n_neurons=1000, input_dim=8, output_dim=2)\n",
    "\n",
    "net.config_input_weights(mean=0.4, density=0.5, seed=1)\n",
    "net.config_recurrent_weights(density=0.1, ex=0.8, seed=2)\n",
    "net.weight_scaling(input_scaling=2.1, recurrent_scaling=3.7e-9)"
   ]
  },
  {
   "cell_type": "markdown",
   "metadata": {},
   "source": [
    "### Rate tuning"
   ]
  },
  {
   "cell_type": "code",
   "execution_count": null,
   "metadata": {},
   "outputs": [],
   "source": [
    "df = pd.read_csv(filepath_or_buffer=\"/project/3011085.04/snn/data/interim/tuning_inputw.csv\", header=0, index_col=0)\n",
    "df.head()"
   ]
  },
  {
   "cell_type": "code",
   "execution_count": null,
   "metadata": {},
   "outputs": [],
   "source": [
    "sns.catplot(data = df, x=\"scale\", y=\"rate\", color='black')"
   ]
  },
  {
   "cell_type": "markdown",
   "metadata": {},
   "source": [
    "### Recurrent weights"
   ]
  },
  {
   "cell_type": "code",
   "execution_count": null,
   "metadata": {},
   "outputs": [],
   "source": [
    "df = pd.read_csv(filepath_or_buffer=\"/project/3011085.04/snn/data/interim/tuning_recurrentw.csv\", header=0)\n",
    "alt.Chart(data=df).mark_point().encode(\n",
    "    x=\"scale\",\n",
    "    y=\"mean_fr\"\n",
    ").interactive()"
   ]
  },
  {
   "cell_type": "markdown",
   "metadata": {},
   "source": [
    "### Connectivity matrices"
   ]
  },
  {
   "cell_type": "code",
   "execution_count": null,
   "metadata": {},
   "outputs": [],
   "source": [
    "plt.imshow(net.w[\"input\"], aspect=\"auto\", cmap=\"gray_r\")\n",
    "plt.title(\"Input weight matrix\")\n",
    "plt.ylabel(\"neuron nr.\")\n",
    "plt.xlabel(\"input symbol\")\n",
    "c = plt.colorbar()\n",
    "c.set_label(\"Conductance\")\n",
    "plt.show()"
   ]
  },
  {
   "cell_type": "code",
   "execution_count": null,
   "metadata": {},
   "outputs": [],
   "source": [
    "plt.imshow(net.w[\"recurrent\"], aspect=\"auto\")\n",
    "plt.title(\"Recurrent weight matrix\")\n",
    "plt.ylabel(\"receiving neuron nr.\")\n",
    "plt.xlabel(\"sending neuron nr.\")\n",
    "c2 = plt.colorbar()\n",
    "c2.set_label(\"Conductance\")\n",
    "plt.show()"
   ]
  },
  {
   "cell_type": "code",
   "execution_count": null,
   "metadata": {},
   "outputs": [],
   "source": [
    "# Configure recording matrices\n",
    "\n",
    "net.config_recording(n_neurons=net.neurons[\"N\"], t=parameters.sim[\"t\"], dataset=ds2, downsample=None)\n",
    "\n",
    "# Create step current for input\n",
    "step = parameters.step_current(t=net.recording[\"t_orig\"], on=0.3, off=0.35, amp=4.4e-9)"
   ]
  },
  {
   "cell_type": "code",
   "execution_count": null,
   "metadata": {},
   "outputs": [],
   "source": [
    "plt.plot(parameters.sim[\"t\"], step)\n",
    "plt.title(\"Input current\")\n",
    "plt.xlabel(\"time (sec)\")\n",
    "plt.ylabel(\"current (A)\")\n",
    "plt.show()"
   ]
  },
  {
   "cell_type": "markdown",
   "metadata": {},
   "source": [
    "### Stimulate and record network responses"
   ]
  },
  {
   "cell_type": "code",
   "execution_count": null,
   "metadata": {},
   "outputs": [],
   "source": [
    "# Train the network\n",
    "net.train(dataset=ds2, current=step)"
   ]
  },
  {
   "cell_type": "markdown",
   "metadata": {},
   "source": [
    "### Plot responses"
   ]
  },
  {
   "cell_type": "code",
   "execution_count": null,
   "metadata": {},
   "outputs": [],
   "source": [
    "trial = 5\n",
    "plt.imshow(net.recording[\"V\"][trial,:,:], aspect=\"auto\") # trial nr 1\n",
    "plt.title(\"Membrane potential \" + \"(trial \" + str(trial+1) + \")\")\n",
    "plt.xlabel(\"time (msec)\")\n",
    "plt.ylabel(\"neuron nr.\")\n",
    "c = plt.colorbar()\n",
    "c.set_label(\"memb. potential (microV)\")\n",
    "plt.show()"
   ]
  },
  {
   "cell_type": "code",
   "execution_count": null,
   "metadata": {},
   "outputs": [],
   "source": [
    "plt.plot(net.recording[\"V\"][0,: , :].T)\n",
    "plt.xlabel(\"Time (msec)\")\n",
    "plt.ylabel(\"Voltage (mV)\")\n",
    "plt.show()\n"
   ]
  },
  {
   "cell_type": "code",
   "execution_count": null,
   "metadata": {},
   "outputs": [],
   "source": [
    "plt.imshow(net.recording[\"spikes\"][1, :, :])\n",
    "plt.title(\"Spikes \" + \"(trial \" + str(trial+1) + \")\")\n",
    "plt.xlabel(\"time (msec)\")\n",
    "plt.ylabel(\"neuron nr\")\n",
    "plt.show()"
   ]
  },
  {
   "cell_type": "markdown",
   "metadata": {},
   "source": [
    "## Classification analysis: Naive Bayes"
   ]
  },
  {
   "cell_type": "markdown",
   "metadata": {},
   "source": [
    "#### Load data"
   ]
  },
  {
   "cell_type": "code",
   "execution_count": null,
   "metadata": {},
   "outputs": [],
   "source": [
    "x = load(\"/project/3011085.04/snn/data/interim/average_states.pkl\")\n",
    "y = load(\"/project/3011085.04/snn/data/interim/responses.pkl\")"
   ]
  },
  {
   "cell_type": "code",
   "execution_count": null,
   "metadata": {},
   "outputs": [],
   "source": [
    "print(x.shape)"
   ]
  },
  {
   "cell_type": "code",
   "execution_count": null,
   "metadata": {},
   "outputs": [],
   "source": [
    "plt.imshow(x.T, aspect=\"auto\")\n",
    "plt.xlabel(\"trial nr.\")\n",
    "plt.ylabel(\"neuron\")\n",
    "c = plt.colorbar()\n",
    "c.set_label(\"Average memb. state (mV)\")\n",
    "plt.show()"
   ]
  },
  {
   "cell_type": "code",
   "execution_count": null,
   "metadata": {},
   "outputs": [],
   "source": [
    "r = np.zeros(y.shape, dtype=int)\n",
    "r[np.where(y),] = 1\n",
    "print(r)"
   ]
  },
  {
   "cell_type": "code",
   "execution_count": null,
   "metadata": {},
   "outputs": [],
   "source": [
    "print(\"Percent true: {}\".format(round(np.sum(r)/len(r),2)))\n",
    "print(\"Percent false: {} \".format(round((len(r)-np.sum(r))/len(r),2)))"
   ]
  },
  {
   "cell_type": "code",
   "execution_count": null,
   "metadata": {},
   "outputs": [],
   "source": []
  }
 ],
 "metadata": {
  "kernelspec": {
   "display_name": "Python 3",
   "language": "python",
   "name": "python3"
  },
  "language_info": {
   "codemirror_mode": {
    "name": "ipython",
    "version": 3
   },
   "file_extension": ".py",
   "mimetype": "text/x-python",
   "name": "python",
   "nbconvert_exporter": "python",
   "pygments_lexer": "ipython3",
   "version": "3.7.3"
  }
 },
 "nbformat": 4,
 "nbformat_minor": 4
}
