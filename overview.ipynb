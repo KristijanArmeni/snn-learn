{
 "cells": [
  {
   "cell_type": "code",
   "execution_count": 1,
   "metadata": {},
   "outputs": [],
   "source": [
    "import numpy as np\n",
    "import pandas as pd\n",
    "from matplotlib import pyplot as plt\n",
    "import altair as alt\n",
    "\n",
    "from stimuli import generate_sequence, encode_input, Dataset\n",
    "from snn_params import Params\n",
    "from snn_network import SNN"
   ]
  },
  {
   "cell_type": "code",
   "execution_count": 58,
   "metadata": {},
   "outputs": [],
   "source": [
    "plt.rcParams.update({'figure.figsize': (8, 6)})\n",
    "plt.rcParams.update({'font.size': 14})"
   ]
  },
  {
   "cell_type": "code",
   "execution_count": 3,
   "metadata": {},
   "outputs": [
    {
     "name": "stdout",
     "output_type": "stream",
     "text": [
      "[0.    0.001 0.002 0.003 0.004 0.005 0.006 0.007 0.008 0.009]\n"
     ]
    }
   ],
   "source": [
    "# Initialize parameters\n",
    "params = Params()\n",
    "params.config_sim(tmin=0, tmax=0.6, dt=0.001)\n",
    "print(params.sim[\"T\"][0:10])"
   ]
  },
  {
   "cell_type": "markdown",
   "metadata": {},
   "source": [
    "### Input sequence"
   ]
  },
  {
   "cell_type": "code",
   "execution_count": 4,
   "metadata": {},
   "outputs": [
    {
     "name": "stdout",
     "output_type": "stream",
     "text": [
      "239\n",
      "245\n"
     ]
    }
   ],
   "source": [
    "# Create full dataset\n",
    "seq, rsp, out_seq = generate_sequence(n_inner=4, n_outer=300, seed=95)\n",
    "inp = encode_input(sequence=seq)\n",
    "print(np.sum(out_seq==\"AX\"))\n",
    "print(np.sum(out_seq==\"BY\"))"
   ]
  },
  {
   "cell_type": "code",
   "execution_count": 5,
   "metadata": {},
   "outputs": [
    {
     "name": "stdout",
     "output_type": "stream",
     "text": [
      "1072\n"
     ]
    },
    {
     "data": {
      "application/vnd.vegalite.v2+json": {
       "$schema": "https://vega.github.io/schema/vega-lite/v2.6.0.json",
       "config": {
        "view": {
         "height": 300,
         "width": 400
        }
       },
       "data": {
        "name": "data-23904eb92b4d3bcd4b4d4949d34f82c0"
       },
       "datasets": {
        "data-23904eb92b4d3bcd4b4d4949d34f82c0": [
         {
          "symbol": "1"
         },
         {
          "symbol": "AX"
         },
         {
          "symbol": "BX"
         },
         {
          "symbol": "CX"
         },
         {
          "symbol": "2"
         },
         {
          "symbol": "AX"
         },
         {
          "symbol": "AX"
         },
         {
          "symbol": "2"
         },
         {
          "symbol": "AX"
         },
         {
          "symbol": "AX"
         },
         {
          "symbol": "AX"
         },
         {
          "symbol": "AX"
         },
         {
          "symbol": "1"
         },
         {
          "symbol": "BY"
         },
         {
          "symbol": "BY"
         },
         {
          "symbol": "BY"
         },
         {
          "symbol": "1"
         },
         {
          "symbol": "AX"
         },
         {
          "symbol": "BY"
         },
         {
          "symbol": "BY"
         },
         {
          "symbol": "2"
         },
         {
          "symbol": "BY"
         },
         {
          "symbol": "AX"
         },
         {
          "symbol": "1"
         },
         {
          "symbol": "AX"
         },
         {
          "symbol": "CZ"
         },
         {
          "symbol": "AX"
         },
         {
          "symbol": "1"
         },
         {
          "symbol": "BX"
         },
         {
          "symbol": "2"
         },
         {
          "symbol": "CX"
         },
         {
          "symbol": "BX"
         },
         {
          "symbol": "BY"
         },
         {
          "symbol": "BY"
         },
         {
          "symbol": "1"
         },
         {
          "symbol": "AX"
         },
         {
          "symbol": "BY"
         },
         {
          "symbol": "CZ"
         },
         {
          "symbol": "2"
         },
         {
          "symbol": "CY"
         },
         {
          "symbol": "BX"
         },
         {
          "symbol": "1"
         },
         {
          "symbol": "BX"
         },
         {
          "symbol": "2"
         },
         {
          "symbol": "BY"
         },
         {
          "symbol": "CX"
         },
         {
          "symbol": "BY"
         },
         {
          "symbol": "BY"
         },
         {
          "symbol": "1"
         },
         {
          "symbol": "BY"
         },
         {
          "symbol": "2"
         },
         {
          "symbol": "BZ"
         },
         {
          "symbol": "BY"
         },
         {
          "symbol": "BZ"
         },
         {
          "symbol": "AX"
         },
         {
          "symbol": "1"
         },
         {
          "symbol": "BY"
         },
         {
          "symbol": "AX"
         },
         {
          "symbol": "AZ"
         },
         {
          "symbol": "1"
         },
         {
          "symbol": "AX"
         },
         {
          "symbol": "2"
         },
         {
          "symbol": "AX"
         },
         {
          "symbol": "AX"
         },
         {
          "symbol": "1"
         },
         {
          "symbol": "BY"
         },
         {
          "symbol": "2"
         },
         {
          "symbol": "BY"
         },
         {
          "symbol": "BY"
         },
         {
          "symbol": "BY"
         },
         {
          "symbol": "CX"
         },
         {
          "symbol": "1"
         },
         {
          "symbol": "BY"
         },
         {
          "symbol": "AX"
         },
         {
          "symbol": "BY"
         },
         {
          "symbol": "2"
         },
         {
          "symbol": "BY"
         },
         {
          "symbol": "CZ"
         },
         {
          "symbol": "BY"
         },
         {
          "symbol": "BY"
         },
         {
          "symbol": "2"
         },
         {
          "symbol": "AX"
         },
         {
          "symbol": "BZ"
         },
         {
          "symbol": "CZ"
         },
         {
          "symbol": "BX"
         },
         {
          "symbol": "2"
         },
         {
          "symbol": "AX"
         },
         {
          "symbol": "CY"
         },
         {
          "symbol": "BZ"
         },
         {
          "symbol": "AY"
         },
         {
          "symbol": "1"
         },
         {
          "symbol": "AX"
         },
         {
          "symbol": "BY"
         },
         {
          "symbol": "BY"
         },
         {
          "symbol": "2"
         },
         {
          "symbol": "BY"
         },
         {
          "symbol": "BY"
         },
         {
          "symbol": "BZ"
         },
         {
          "symbol": "AX"
         },
         {
          "symbol": "2"
         },
         {
          "symbol": "CX"
         },
         {
          "symbol": "AZ"
         },
         {
          "symbol": "BY"
         },
         {
          "symbol": "CZ"
         },
         {
          "symbol": "2"
         },
         {
          "symbol": "AX"
         },
         {
          "symbol": "AY"
         },
         {
          "symbol": "AX"
         },
         {
          "symbol": "BY"
         },
         {
          "symbol": "1"
         },
         {
          "symbol": "BY"
         },
         {
          "symbol": "2"
         },
         {
          "symbol": "AX"
         },
         {
          "symbol": "BX"
         },
         {
          "symbol": "BY"
         },
         {
          "symbol": "CY"
         },
         {
          "symbol": "1"
         },
         {
          "symbol": "BY"
         },
         {
          "symbol": "2"
         },
         {
          "symbol": "AX"
         },
         {
          "symbol": "BY"
         },
         {
          "symbol": "1"
         },
         {
          "symbol": "AX"
         },
         {
          "symbol": "BY"
         },
         {
          "symbol": "BZ"
         },
         {
          "symbol": "1"
         },
         {
          "symbol": "CZ"
         },
         {
          "symbol": "BY"
         },
         {
          "symbol": "AX"
         },
         {
          "symbol": "2"
         },
         {
          "symbol": "AX"
         },
         {
          "symbol": "BX"
         },
         {
          "symbol": "1"
         },
         {
          "symbol": "AX"
         },
         {
          "symbol": "1"
         },
         {
          "symbol": "BY"
         },
         {
          "symbol": "BY"
         },
         {
          "symbol": "BY"
         },
         {
          "symbol": "2"
         },
         {
          "symbol": "BY"
         },
         {
          "symbol": "AX"
         },
         {
          "symbol": "2"
         },
         {
          "symbol": "AZ"
         },
         {
          "symbol": "BZ"
         },
         {
          "symbol": "CY"
         },
         {
          "symbol": "AX"
         },
         {
          "symbol": "1"
         },
         {
          "symbol": "BX"
         },
         {
          "symbol": "1"
         },
         {
          "symbol": "BY"
         },
         {
          "symbol": "2"
         },
         {
          "symbol": "AX"
         },
         {
          "symbol": "CY"
         },
         {
          "symbol": "AX"
         },
         {
          "symbol": "CY"
         },
         {
          "symbol": "1"
         },
         {
          "symbol": "AX"
         },
         {
          "symbol": "CZ"
         },
         {
          "symbol": "AX"
         },
         {
          "symbol": "1"
         },
         {
          "symbol": "BY"
         },
         {
          "symbol": "CZ"
         },
         {
          "symbol": "BY"
         },
         {
          "symbol": "1"
         },
         {
          "symbol": "CZ"
         },
         {
          "symbol": "1"
         },
         {
          "symbol": "AZ"
         },
         {
          "symbol": "AX"
         },
         {
          "symbol": "BY"
         },
         {
          "symbol": "2"
         },
         {
          "symbol": "AX"
         },
         {
          "symbol": "AX"
         },
         {
          "symbol": "1"
         },
         {
          "symbol": "CY"
         },
         {
          "symbol": "CY"
         },
         {
          "symbol": "AX"
         },
         {
          "symbol": "1"
         },
         {
          "symbol": "CZ"
         },
         {
          "symbol": "2"
         },
         {
          "symbol": "AZ"
         },
         {
          "symbol": "AX"
         },
         {
          "symbol": "BZ"
         },
         {
          "symbol": "CZ"
         },
         {
          "symbol": "2"
         },
         {
          "symbol": "AY"
         },
         {
          "symbol": "AX"
         },
         {
          "symbol": "2"
         },
         {
          "symbol": "BY"
         },
         {
          "symbol": "CZ"
         },
         {
          "symbol": "CX"
         },
         {
          "symbol": "AZ"
         },
         {
          "symbol": "2"
         },
         {
          "symbol": "BY"
         },
         {
          "symbol": "BX"
         },
         {
          "symbol": "CY"
         },
         {
          "symbol": "BZ"
         },
         {
          "symbol": "1"
         },
         {
          "symbol": "BY"
         },
         {
          "symbol": "AX"
         },
         {
          "symbol": "AX"
         },
         {
          "symbol": "1"
         },
         {
          "symbol": "AX"
         },
         {
          "symbol": "BY"
         },
         {
          "symbol": "BY"
         },
         {
          "symbol": "2"
         },
         {
          "symbol": "BY"
         },
         {
          "symbol": "AX"
         },
         {
          "symbol": "CZ"
         },
         {
          "symbol": "BX"
         },
         {
          "symbol": "1"
         },
         {
          "symbol": "BX"
         },
         {
          "symbol": "AZ"
         },
         {
          "symbol": "AX"
         },
         {
          "symbol": "2"
         },
         {
          "symbol": "AX"
         },
         {
          "symbol": "AX"
         },
         {
          "symbol": "1"
         },
         {
          "symbol": "AX"
         },
         {
          "symbol": "2"
         },
         {
          "symbol": "BX"
         },
         {
          "symbol": "AX"
         },
         {
          "symbol": "AX"
         },
         {
          "symbol": "BY"
         },
         {
          "symbol": "2"
         },
         {
          "symbol": "BZ"
         },
         {
          "symbol": "AX"
         },
         {
          "symbol": "CZ"
         },
         {
          "symbol": "BY"
         },
         {
          "symbol": "1"
         },
         {
          "symbol": "AX"
         },
         {
          "symbol": "AX"
         },
         {
          "symbol": "AX"
         },
         {
          "symbol": "2"
         },
         {
          "symbol": "AY"
         },
         {
          "symbol": "BY"
         },
         {
          "symbol": "BY"
         },
         {
          "symbol": "CX"
         },
         {
          "symbol": "1"
         },
         {
          "symbol": "AX"
         },
         {
          "symbol": "2"
         },
         {
          "symbol": "AY"
         },
         {
          "symbol": "AX"
         },
         {
          "symbol": "2"
         },
         {
          "symbol": "CZ"
         },
         {
          "symbol": "BY"
         },
         {
          "symbol": "CX"
         },
         {
          "symbol": "AX"
         },
         {
          "symbol": "2"
         },
         {
          "symbol": "BY"
         },
         {
          "symbol": "BY"
         },
         {
          "symbol": "AY"
         },
         {
          "symbol": "AX"
         },
         {
          "symbol": "2"
         },
         {
          "symbol": "AX"
         },
         {
          "symbol": "AX"
         },
         {
          "symbol": "1"
         },
         {
          "symbol": "BY"
         },
         {
          "symbol": "AX"
         },
         {
          "symbol": "AY"
         },
         {
          "symbol": "1"
         },
         {
          "symbol": "CX"
         },
         {
          "symbol": "1"
         },
         {
          "symbol": "CZ"
         },
         {
          "symbol": "2"
         },
         {
          "symbol": "BX"
         },
         {
          "symbol": "AX"
         },
         {
          "symbol": "BX"
         },
         {
          "symbol": "BY"
         },
         {
          "symbol": "2"
         },
         {
          "symbol": "CZ"
         },
         {
          "symbol": "BY"
         },
         {
          "symbol": "BY"
         },
         {
          "symbol": "BY"
         },
         {
          "symbol": "2"
         },
         {
          "symbol": "CX"
         },
         {
          "symbol": "AZ"
         },
         {
          "symbol": "BY"
         },
         {
          "symbol": "AX"
         },
         {
          "symbol": "2"
         },
         {
          "symbol": "AX"
         },
         {
          "symbol": "BY"
         },
         {
          "symbol": "AX"
         },
         {
          "symbol": "AX"
         },
         {
          "symbol": "2"
         },
         {
          "symbol": "CX"
         },
         {
          "symbol": "CZ"
         },
         {
          "symbol": "2"
         },
         {
          "symbol": "CZ"
         },
         {
          "symbol": "AX"
         },
         {
          "symbol": "2"
         },
         {
          "symbol": "BY"
         },
         {
          "symbol": "BY"
         },
         {
          "symbol": "BY"
         },
         {
          "symbol": "AZ"
         },
         {
          "symbol": "2"
         },
         {
          "symbol": "AX"
         },
         {
          "symbol": "AX"
         },
         {
          "symbol": "1"
         },
         {
          "symbol": "BX"
         },
         {
          "symbol": "2"
         },
         {
          "symbol": "BY"
         },
         {
          "symbol": "AX"
         },
         {
          "symbol": "AX"
         },
         {
          "symbol": "AX"
         },
         {
          "symbol": "1"
         },
         {
          "symbol": "AX"
         },
         {
          "symbol": "1"
         },
         {
          "symbol": "CX"
         },
         {
          "symbol": "AX"
         },
         {
          "symbol": "AZ"
         },
         {
          "symbol": "1"
         },
         {
          "symbol": "AX"
         },
         {
          "symbol": "1"
         },
         {
          "symbol": "BY"
         },
         {
          "symbol": "2"
         },
         {
          "symbol": "BY"
         },
         {
          "symbol": "BY"
         },
         {
          "symbol": "1"
         },
         {
          "symbol": "BY"
         },
         {
          "symbol": "2"
         },
         {
          "symbol": "BY"
         },
         {
          "symbol": "CZ"
         },
         {
          "symbol": "AX"
         },
         {
          "symbol": "BY"
         },
         {
          "symbol": "1"
         },
         {
          "symbol": "CY"
         },
         {
          "symbol": "BY"
         },
         {
          "symbol": "AX"
         },
         {
          "symbol": "1"
         },
         {
          "symbol": "AX"
         },
         {
          "symbol": "BY"
         },
         {
          "symbol": "BY"
         },
         {
          "symbol": "2"
         },
         {
          "symbol": "AX"
         },
         {
          "symbol": "BY"
         },
         {
          "symbol": "1"
         },
         {
          "symbol": "BY"
         },
         {
          "symbol": "2"
         },
         {
          "symbol": "CY"
         },
         {
          "symbol": "BX"
         },
         {
          "symbol": "CY"
         },
         {
          "symbol": "CZ"
         },
         {
          "symbol": "1"
         },
         {
          "symbol": "BY"
         },
         {
          "symbol": "1"
         },
         {
          "symbol": "CX"
         },
         {
          "symbol": "2"
         },
         {
          "symbol": "BZ"
         },
         {
          "symbol": "AX"
         },
         {
          "symbol": "AX"
         },
         {
          "symbol": "AX"
         },
         {
          "symbol": "1"
         },
         {
          "symbol": "CX"
         },
         {
          "symbol": "AX"
         },
         {
          "symbol": "BY"
         },
         {
          "symbol": "2"
         },
         {
          "symbol": "BX"
         },
         {
          "symbol": "AX"
         },
         {
          "symbol": "BY"
         },
         {
          "symbol": "AX"
         },
         {
          "symbol": "1"
         },
         {
          "symbol": "BY"
         },
         {
          "symbol": "2"
         },
         {
          "symbol": "BZ"
         },
         {
          "symbol": "CX"
         },
         {
          "symbol": "2"
         },
         {
          "symbol": "AY"
         },
         {
          "symbol": "BY"
         },
         {
          "symbol": "BX"
         },
         {
          "symbol": "BY"
         },
         {
          "symbol": "1"
         },
         {
          "symbol": "BZ"
         },
         {
          "symbol": "2"
         },
         {
          "symbol": "AZ"
         },
         {
          "symbol": "AX"
         },
         {
          "symbol": "2"
         },
         {
          "symbol": "BY"
         },
         {
          "symbol": "BY"
         },
         {
          "symbol": "2"
         },
         {
          "symbol": "AX"
         },
         {
          "symbol": "BX"
         },
         {
          "symbol": "AX"
         },
         {
          "symbol": "AY"
         },
         {
          "symbol": "1"
         },
         {
          "symbol": "AX"
         },
         {
          "symbol": "1"
         },
         {
          "symbol": "CZ"
         },
         {
          "symbol": "BZ"
         },
         {
          "symbol": "AX"
         },
         {
          "symbol": "1"
         },
         {
          "symbol": "CZ"
         },
         {
          "symbol": "2"
         },
         {
          "symbol": "AX"
         },
         {
          "symbol": "BY"
         },
         {
          "symbol": "AX"
         },
         {
          "symbol": "AX"
         },
         {
          "symbol": "1"
         },
         {
          "symbol": "BY"
         },
         {
          "symbol": "1"
         },
         {
          "symbol": "CZ"
         },
         {
          "symbol": "2"
         },
         {
          "symbol": "BZ"
         },
         {
          "symbol": "AX"
         },
         {
          "symbol": "1"
         },
         {
          "symbol": "AX"
         },
         {
          "symbol": "2"
         },
         {
          "symbol": "CX"
         },
         {
          "symbol": "AX"
         },
         {
          "symbol": "AZ"
         },
         {
          "symbol": "BY"
         },
         {
          "symbol": "2"
         },
         {
          "symbol": "AX"
         },
         {
          "symbol": "BY"
         },
         {
          "symbol": "BY"
         },
         {
          "symbol": "BY"
         },
         {
          "symbol": "2"
         },
         {
          "symbol": "BY"
         },
         {
          "symbol": "AX"
         },
         {
          "symbol": "AX"
         },
         {
          "symbol": "BY"
         },
         {
          "symbol": "2"
         },
         {
          "symbol": "BY"
         },
         {
          "symbol": "AX"
         },
         {
          "symbol": "BY"
         },
         {
          "symbol": "BX"
         },
         {
          "symbol": "1"
         },
         {
          "symbol": "BY"
         },
         {
          "symbol": "1"
         },
         {
          "symbol": "AZ"
         },
         {
          "symbol": "BY"
         },
         {
          "symbol": "CY"
         },
         {
          "symbol": "2"
         },
         {
          "symbol": "BY"
         },
         {
          "symbol": "BY"
         },
         {
          "symbol": "AX"
         },
         {
          "symbol": "CX"
         },
         {
          "symbol": "2"
         },
         {
          "symbol": "AY"
         },
         {
          "symbol": "CX"
         },
         {
          "symbol": "2"
         },
         {
          "symbol": "BY"
         },
         {
          "symbol": "BX"
         },
         {
          "symbol": "BX"
         },
         {
          "symbol": "BY"
         },
         {
          "symbol": "1"
         },
         {
          "symbol": "BY"
         },
         {
          "symbol": "2"
         },
         {
          "symbol": "BZ"
         },
         {
          "symbol": "BY"
         },
         {
          "symbol": "BY"
         },
         {
          "symbol": "BX"
         },
         {
          "symbol": "1"
         },
         {
          "symbol": "BY"
         },
         {
          "symbol": "AX"
         },
         {
          "symbol": "AX"
         },
         {
          "symbol": "1"
         },
         {
          "symbol": "BY"
         },
         {
          "symbol": "AX"
         },
         {
          "symbol": "CZ"
         },
         {
          "symbol": "1"
         },
         {
          "symbol": "AX"
         },
         {
          "symbol": "2"
         },
         {
          "symbol": "BX"
         },
         {
          "symbol": "BY"
         },
         {
          "symbol": "AX"
         },
         {
          "symbol": "AX"
         },
         {
          "symbol": "2"
         },
         {
          "symbol": "AX"
         },
         {
          "symbol": "AX"
         },
         {
          "symbol": "AX"
         },
         {
          "symbol": "CY"
         },
         {
          "symbol": "2"
         },
         {
          "symbol": "BY"
         },
         {
          "symbol": "AZ"
         },
         {
          "symbol": "2"
         },
         {
          "symbol": "AX"
         },
         {
          "symbol": "AY"
         },
         {
          "symbol": "AY"
         },
         {
          "symbol": "BY"
         },
         {
          "symbol": "1"
         },
         {
          "symbol": "AY"
         },
         {
          "symbol": "BY"
         },
         {
          "symbol": "AY"
         },
         {
          "symbol": "1"
         },
         {
          "symbol": "BY"
         },
         {
          "symbol": "BY"
         },
         {
          "symbol": "AY"
         },
         {
          "symbol": "1"
         },
         {
          "symbol": "BY"
         },
         {
          "symbol": "2"
         },
         {
          "symbol": "BX"
         },
         {
          "symbol": "AX"
         },
         {
          "symbol": "1"
         },
         {
          "symbol": "BY"
         },
         {
          "symbol": "1"
         },
         {
          "symbol": "BX"
         },
         {
          "symbol": "2"
         },
         {
          "symbol": "BY"
         },
         {
          "symbol": "BY"
         },
         {
          "symbol": "1"
         },
         {
          "symbol": "BY"
         },
         {
          "symbol": "2"
         },
         {
          "symbol": "BZ"
         },
         {
          "symbol": "BY"
         },
         {
          "symbol": "CZ"
         },
         {
          "symbol": "CY"
         },
         {
          "symbol": "1"
         },
         {
          "symbol": "AY"
         },
         {
          "symbol": "AZ"
         },
         {
          "symbol": "AX"
         },
         {
          "symbol": "2"
         },
         {
          "symbol": "BY"
         },
         {
          "symbol": "BY"
         },
         {
          "symbol": "1"
         },
         {
          "symbol": "CZ"
         },
         {
          "symbol": "BY"
         },
         {
          "symbol": "BY"
         },
         {
          "symbol": "2"
         },
         {
          "symbol": "BY"
         },
         {
          "symbol": "AX"
         },
         {
          "symbol": "1"
         },
         {
          "symbol": "BY"
         },
         {
          "symbol": "1"
         },
         {
          "symbol": "BY"
         },
         {
          "symbol": "BY"
         },
         {
          "symbol": "AX"
         },
         {
          "symbol": "1"
         },
         {
          "symbol": "AX"
         },
         {
          "symbol": "AX"
         },
         {
          "symbol": "AX"
         },
         {
          "symbol": "2"
         },
         {
          "symbol": "BY"
         },
         {
          "symbol": "AX"
         },
         {
          "symbol": "1"
         },
         {
          "symbol": "AX"
         },
         {
          "symbol": "BY"
         },
         {
          "symbol": "BY"
         },
         {
          "symbol": "2"
         },
         {
          "symbol": "BX"
         },
         {
          "symbol": "AX"
         },
         {
          "symbol": "AX"
         },
         {
          "symbol": "CX"
         },
         {
          "symbol": "1"
         },
         {
          "symbol": "CX"
         },
         {
          "symbol": "2"
         },
         {
          "symbol": "BX"
         },
         {
          "symbol": "AX"
         },
         {
          "symbol": "BY"
         },
         {
          "symbol": "BY"
         },
         {
          "symbol": "2"
         },
         {
          "symbol": "AX"
         },
         {
          "symbol": "AX"
         },
         {
          "symbol": "1"
         },
         {
          "symbol": "AX"
         },
         {
          "symbol": "CY"
         },
         {
          "symbol": "BY"
         },
         {
          "symbol": "2"
         },
         {
          "symbol": "BX"
         },
         {
          "symbol": "AX"
         },
         {
          "symbol": "BY"
         },
         {
          "symbol": "BZ"
         },
         {
          "symbol": "2"
         },
         {
          "symbol": "AX"
         },
         {
          "symbol": "BX"
         },
         {
          "symbol": "1"
         },
         {
          "symbol": "AX"
         },
         {
          "symbol": "1"
         },
         {
          "symbol": "BX"
         },
         {
          "symbol": "AZ"
         },
         {
          "symbol": "AX"
         },
         {
          "symbol": "1"
         },
         {
          "symbol": "AZ"
         },
         {
          "symbol": "AZ"
         },
         {
          "symbol": "AX"
         },
         {
          "symbol": "2"
         },
         {
          "symbol": "CZ"
         },
         {
          "symbol": "AX"
         },
         {
          "symbol": "CX"
         },
         {
          "symbol": "BZ"
         },
         {
          "symbol": "1"
         },
         {
          "symbol": "CY"
         },
         {
          "symbol": "AX"
         },
         {
          "symbol": "AX"
         },
         {
          "symbol": "1"
         },
         {
          "symbol": "BX"
         },
         {
          "symbol": "CY"
         },
         {
          "symbol": "AZ"
         },
         {
          "symbol": "1"
         },
         {
          "symbol": "AZ"
         },
         {
          "symbol": "1"
         },
         {
          "symbol": "AX"
         },
         {
          "symbol": "2"
         },
         {
          "symbol": "CX"
         },
         {
          "symbol": "AX"
         },
         {
          "symbol": "AX"
         },
         {
          "symbol": "AY"
         },
         {
          "symbol": "2"
         },
         {
          "symbol": "AX"
         },
         {
          "symbol": "BY"
         },
         {
          "symbol": "AZ"
         },
         {
          "symbol": "BX"
         },
         {
          "symbol": "2"
         },
         {
          "symbol": "AX"
         },
         {
          "symbol": "AX"
         },
         {
          "symbol": "CY"
         },
         {
          "symbol": "AX"
         },
         {
          "symbol": "2"
         },
         {
          "symbol": "BY"
         },
         {
          "symbol": "AZ"
         },
         {
          "symbol": "AX"
         },
         {
          "symbol": "AY"
         },
         {
          "symbol": "1"
         },
         {
          "symbol": "CX"
         },
         {
          "symbol": "1"
         },
         {
          "symbol": "BX"
         },
         {
          "symbol": "1"
         },
         {
          "symbol": "BZ"
         },
         {
          "symbol": "1"
         },
         {
          "symbol": "AY"
         },
         {
          "symbol": "AX"
         },
         {
          "symbol": "AX"
         },
         {
          "symbol": "2"
         },
         {
          "symbol": "CY"
         },
         {
          "symbol": "AX"
         },
         {
          "symbol": "BX"
         },
         {
          "symbol": "AX"
         },
         {
          "symbol": "1"
         },
         {
          "symbol": "AY"
         },
         {
          "symbol": "1"
         },
         {
          "symbol": "AX"
         },
         {
          "symbol": "AX"
         },
         {
          "symbol": "CZ"
         },
         {
          "symbol": "1"
         },
         {
          "symbol": "BY"
         },
         {
          "symbol": "1"
         },
         {
          "symbol": "AY"
         },
         {
          "symbol": "1"
         },
         {
          "symbol": "AX"
         },
         {
          "symbol": "2"
         },
         {
          "symbol": "AX"
         },
         {
          "symbol": "AX"
         },
         {
          "symbol": "BY"
         },
         {
          "symbol": "AX"
         },
         {
          "symbol": "2"
         },
         {
          "symbol": "AX"
         },
         {
          "symbol": "BY"
         },
         {
          "symbol": "1"
         },
         {
          "symbol": "BY"
         },
         {
          "symbol": "1"
         },
         {
          "symbol": "BY"
         },
         {
          "symbol": "1"
         },
         {
          "symbol": "AX"
         },
         {
          "symbol": "BY"
         },
         {
          "symbol": "BX"
         },
         {
          "symbol": "2"
         },
         {
          "symbol": "AX"
         },
         {
          "symbol": "BY"
         },
         {
          "symbol": "2"
         },
         {
          "symbol": "AZ"
         },
         {
          "symbol": "AX"
         },
         {
          "symbol": "2"
         },
         {
          "symbol": "BY"
         },
         {
          "symbol": "AZ"
         },
         {
          "symbol": "1"
         },
         {
          "symbol": "AX"
         },
         {
          "symbol": "AX"
         },
         {
          "symbol": "AX"
         },
         {
          "symbol": "2"
         },
         {
          "symbol": "AX"
         },
         {
          "symbol": "BY"
         },
         {
          "symbol": "AZ"
         },
         {
          "symbol": "BY"
         },
         {
          "symbol": "2"
         },
         {
          "symbol": "CX"
         },
         {
          "symbol": "AX"
         },
         {
          "symbol": "2"
         },
         {
          "symbol": "BY"
         },
         {
          "symbol": "AX"
         },
         {
          "symbol": "1"
         },
         {
          "symbol": "CX"
         },
         {
          "symbol": "1"
         },
         {
          "symbol": "CX"
         },
         {
          "symbol": "BY"
         },
         {
          "symbol": "AY"
         },
         {
          "symbol": "1"
         },
         {
          "symbol": "AY"
         },
         {
          "symbol": "BY"
         },
         {
          "symbol": "BZ"
         },
         {
          "symbol": "1"
         },
         {
          "symbol": "CX"
         },
         {
          "symbol": "AX"
         },
         {
          "symbol": "AX"
         },
         {
          "symbol": "2"
         },
         {
          "symbol": "CX"
         },
         {
          "symbol": "BZ"
         },
         {
          "symbol": "1"
         },
         {
          "symbol": "BZ"
         },
         {
          "symbol": "2"
         },
         {
          "symbol": "BY"
         },
         {
          "symbol": "BY"
         },
         {
          "symbol": "BY"
         },
         {
          "symbol": "CZ"
         },
         {
          "symbol": "2"
         },
         {
          "symbol": "CZ"
         },
         {
          "symbol": "BY"
         },
         {
          "symbol": "CZ"
         },
         {
          "symbol": "BY"
         },
         {
          "symbol": "1"
         },
         {
          "symbol": "AX"
         },
         {
          "symbol": "AX"
         },
         {
          "symbol": "AY"
         },
         {
          "symbol": "1"
         },
         {
          "symbol": "AX"
         },
         {
          "symbol": "BY"
         },
         {
          "symbol": "AY"
         },
         {
          "symbol": "1"
         },
         {
          "symbol": "BY"
         },
         {
          "symbol": "2"
         },
         {
          "symbol": "BY"
         },
         {
          "symbol": "AX"
         },
         {
          "symbol": "2"
         },
         {
          "symbol": "BY"
         },
         {
          "symbol": "CZ"
         },
         {
          "symbol": "CY"
         },
         {
          "symbol": "CY"
         },
         {
          "symbol": "2"
         },
         {
          "symbol": "BY"
         },
         {
          "symbol": "AY"
         },
         {
          "symbol": "1"
         },
         {
          "symbol": "AX"
         },
         {
          "symbol": "CX"
         },
         {
          "symbol": "BZ"
         },
         {
          "symbol": "2"
         },
         {
          "symbol": "AX"
         },
         {
          "symbol": "CY"
         },
         {
          "symbol": "1"
         },
         {
          "symbol": "CZ"
         },
         {
          "symbol": "BY"
         },
         {
          "symbol": "AX"
         },
         {
          "symbol": "2"
         },
         {
          "symbol": "BY"
         },
         {
          "symbol": "BZ"
         },
         {
          "symbol": "1"
         },
         {
          "symbol": "AX"
         },
         {
          "symbol": "1"
         },
         {
          "symbol": "BY"
         },
         {
          "symbol": "BX"
         },
         {
          "symbol": "AX"
         },
         {
          "symbol": "1"
         },
         {
          "symbol": "AX"
         },
         {
          "symbol": "AZ"
         },
         {
          "symbol": "AX"
         },
         {
          "symbol": "2"
         },
         {
          "symbol": "AX"
         },
         {
          "symbol": "BY"
         },
         {
          "symbol": "2"
         },
         {
          "symbol": "AX"
         },
         {
          "symbol": "AX"
         },
         {
          "symbol": "AX"
         },
         {
          "symbol": "CX"
         },
         {
          "symbol": "1"
         },
         {
          "symbol": "AX"
         },
         {
          "symbol": "2"
         },
         {
          "symbol": "BZ"
         },
         {
          "symbol": "BZ"
         },
         {
          "symbol": "BY"
         },
         {
          "symbol": "CY"
         },
         {
          "symbol": "1"
         },
         {
          "symbol": "CY"
         },
         {
          "symbol": "AX"
         },
         {
          "symbol": "BY"
         },
         {
          "symbol": "2"
         },
         {
          "symbol": "BX"
         },
         {
          "symbol": "CX"
         },
         {
          "symbol": "AZ"
         },
         {
          "symbol": "BZ"
         },
         {
          "symbol": "1"
         },
         {
          "symbol": "AX"
         },
         {
          "symbol": "1"
         },
         {
          "symbol": "AX"
         },
         {
          "symbol": "AX"
         },
         {
          "symbol": "AX"
         },
         {
          "symbol": "1"
         },
         {
          "symbol": "CX"
         },
         {
          "symbol": "2"
         },
         {
          "symbol": "AY"
         },
         {
          "symbol": "CY"
         },
         {
          "symbol": "CY"
         },
         {
          "symbol": "BY"
         },
         {
          "symbol": "1"
         },
         {
          "symbol": "CX"
         },
         {
          "symbol": "1"
         },
         {
          "symbol": "BY"
         },
         {
          "symbol": "BY"
         },
         {
          "symbol": "BY"
         },
         {
          "symbol": "2"
         },
         {
          "symbol": "AX"
         },
         {
          "symbol": "AZ"
         },
         {
          "symbol": "BY"
         },
         {
          "symbol": "BY"
         },
         {
          "symbol": "2"
         },
         {
          "symbol": "CZ"
         },
         {
          "symbol": "AZ"
         },
         {
          "symbol": "AX"
         },
         {
          "symbol": "AZ"
         },
         {
          "symbol": "1"
         },
         {
          "symbol": "BY"
         },
         {
          "symbol": "1"
         },
         {
          "symbol": "BY"
         },
         {
          "symbol": "BY"
         },
         {
          "symbol": "BY"
         },
         {
          "symbol": "2"
         },
         {
          "symbol": "AX"
         },
         {
          "symbol": "BY"
         },
         {
          "symbol": "1"
         },
         {
          "symbol": "AY"
         },
         {
          "symbol": "CZ"
         },
         {
          "symbol": "BY"
         },
         {
          "symbol": "2"
         },
         {
          "symbol": "AX"
         },
         {
          "symbol": "CY"
         },
         {
          "symbol": "CX"
         },
         {
          "symbol": "BY"
         },
         {
          "symbol": "2"
         },
         {
          "symbol": "CX"
         },
         {
          "symbol": "BY"
         },
         {
          "symbol": "CX"
         },
         {
          "symbol": "AX"
         },
         {
          "symbol": "2"
         },
         {
          "symbol": "CZ"
         },
         {
          "symbol": "AX"
         },
         {
          "symbol": "2"
         },
         {
          "symbol": "BY"
         },
         {
          "symbol": "AX"
         },
         {
          "symbol": "AZ"
         },
         {
          "symbol": "AX"
         },
         {
          "symbol": "1"
         },
         {
          "symbol": "BY"
         },
         {
          "symbol": "1"
         },
         {
          "symbol": "AX"
         },
         {
          "symbol": "BX"
         },
         {
          "symbol": "AX"
         },
         {
          "symbol": "2"
         },
         {
          "symbol": "CX"
         },
         {
          "symbol": "BY"
         },
         {
          "symbol": "2"
         },
         {
          "symbol": "CX"
         },
         {
          "symbol": "CZ"
         },
         {
          "symbol": "2"
         },
         {
          "symbol": "AY"
         },
         {
          "symbol": "BY"
         },
         {
          "symbol": "2"
         },
         {
          "symbol": "BY"
         },
         {
          "symbol": "AX"
         },
         {
          "symbol": "2"
         },
         {
          "symbol": "AX"
         },
         {
          "symbol": "AY"
         },
         {
          "symbol": "1"
         },
         {
          "symbol": "AX"
         },
         {
          "symbol": "2"
         },
         {
          "symbol": "BZ"
         },
         {
          "symbol": "AX"
         },
         {
          "symbol": "2"
         },
         {
          "symbol": "AX"
         },
         {
          "symbol": "CY"
         },
         {
          "symbol": "AX"
         },
         {
          "symbol": "BY"
         },
         {
          "symbol": "2"
         },
         {
          "symbol": "CZ"
         },
         {
          "symbol": "CY"
         },
         {
          "symbol": "BY"
         },
         {
          "symbol": "CX"
         },
         {
          "symbol": "1"
         },
         {
          "symbol": "BY"
         },
         {
          "symbol": "AX"
         },
         {
          "symbol": "AX"
         },
         {
          "symbol": "2"
         },
         {
          "symbol": "CX"
         },
         {
          "symbol": "BZ"
         },
         {
          "symbol": "BY"
         },
         {
          "symbol": "BX"
         },
         {
          "symbol": "1"
         },
         {
          "symbol": "AZ"
         },
         {
          "symbol": "1"
         },
         {
          "symbol": "AX"
         },
         {
          "symbol": "2"
         },
         {
          "symbol": "BY"
         },
         {
          "symbol": "BY"
         },
         {
          "symbol": "BY"
         },
         {
          "symbol": "BX"
         },
         {
          "symbol": "1"
         },
         {
          "symbol": "BY"
         },
         {
          "symbol": "BY"
         },
         {
          "symbol": "BX"
         },
         {
          "symbol": "2"
         },
         {
          "symbol": "CY"
         },
         {
          "symbol": "BY"
         },
         {
          "symbol": "CY"
         },
         {
          "symbol": "BY"
         },
         {
          "symbol": "1"
         },
         {
          "symbol": "CZ"
         },
         {
          "symbol": "2"
         },
         {
          "symbol": "BY"
         },
         {
          "symbol": "BX"
         },
         {
          "symbol": "2"
         },
         {
          "symbol": "BY"
         },
         {
          "symbol": "BX"
         },
         {
          "symbol": "BZ"
         },
         {
          "symbol": "BY"
         },
         {
          "symbol": "2"
         },
         {
          "symbol": "BY"
         },
         {
          "symbol": "AX"
         },
         {
          "symbol": "BY"
         },
         {
          "symbol": "BZ"
         },
         {
          "symbol": "2"
         },
         {
          "symbol": "AX"
         },
         {
          "symbol": "AZ"
         },
         {
          "symbol": "2"
         },
         {
          "symbol": "BY"
         },
         {
          "symbol": "BY"
         },
         {
          "symbol": "1"
         },
         {
          "symbol": "BY"
         },
         {
          "symbol": "BY"
         },
         {
          "symbol": "BX"
         },
         {
          "symbol": "1"
         },
         {
          "symbol": "AX"
         },
         {
          "symbol": "2"
         },
         {
          "symbol": "BY"
         },
         {
          "symbol": "CX"
         },
         {
          "symbol": "1"
         },
         {
          "symbol": "AX"
         },
         {
          "symbol": "2"
         },
         {
          "symbol": "BY"
         },
         {
          "symbol": "BY"
         },
         {
          "symbol": "1"
         },
         {
          "symbol": "BY"
         },
         {
          "symbol": "AX"
         },
         {
          "symbol": "BY"
         },
         {
          "symbol": "1"
         },
         {
          "symbol": "AX"
         },
         {
          "symbol": "BY"
         },
         {
          "symbol": "AX"
         },
         {
          "symbol": "2"
         },
         {
          "symbol": "AZ"
         },
         {
          "symbol": "AX"
         },
         {
          "symbol": "BY"
         },
         {
          "symbol": "BY"
         },
         {
          "symbol": "1"
         },
         {
          "symbol": "BY"
         },
         {
          "symbol": "2"
         },
         {
          "symbol": "BY"
         },
         {
          "symbol": "CZ"
         },
         {
          "symbol": "2"
         },
         {
          "symbol": "CX"
         },
         {
          "symbol": "BY"
         },
         {
          "symbol": "BY"
         },
         {
          "symbol": "CY"
         },
         {
          "symbol": "1"
         },
         {
          "symbol": "AX"
         },
         {
          "symbol": "BZ"
         },
         {
          "symbol": "BZ"
         },
         {
          "symbol": "2"
         },
         {
          "symbol": "BY"
         },
         {
          "symbol": "BX"
         },
         {
          "symbol": "AZ"
         },
         {
          "symbol": "AX"
         },
         {
          "symbol": "1"
         },
         {
          "symbol": "BY"
         },
         {
          "symbol": "AY"
         },
         {
          "symbol": "AX"
         },
         {
          "symbol": "1"
         },
         {
          "symbol": "CX"
         },
         {
          "symbol": "AX"
         },
         {
          "symbol": "AX"
         },
         {
          "symbol": "1"
         },
         {
          "symbol": "AX"
         },
         {
          "symbol": "1"
         },
         {
          "symbol": "BY"
         },
         {
          "symbol": "BY"
         },
         {
          "symbol": "BY"
         },
         {
          "symbol": "1"
         },
         {
          "symbol": "BY"
         },
         {
          "symbol": "1"
         },
         {
          "symbol": "AY"
         },
         {
          "symbol": "BY"
         },
         {
          "symbol": "BY"
         },
         {
          "symbol": "1"
         },
         {
          "symbol": "AX"
         },
         {
          "symbol": "2"
         },
         {
          "symbol": "AY"
         },
         {
          "symbol": "BY"
         },
         {
          "symbol": "1"
         },
         {
          "symbol": "CY"
         },
         {
          "symbol": "BY"
         },
         {
          "symbol": "AX"
         },
         {
          "symbol": "2"
         },
         {
          "symbol": "AX"
         },
         {
          "symbol": "AZ"
         },
         {
          "symbol": "AX"
         },
         {
          "symbol": "AY"
         },
         {
          "symbol": "1"
         },
         {
          "symbol": "CY"
         },
         {
          "symbol": "CY"
         },
         {
          "symbol": "BY"
         },
         {
          "symbol": "1"
         },
         {
          "symbol": "AX"
         },
         {
          "symbol": "CY"
         },
         {
          "symbol": "BY"
         },
         {
          "symbol": "1"
         },
         {
          "symbol": "AX"
         },
         {
          "symbol": "2"
         },
         {
          "symbol": "AX"
         },
         {
          "symbol": "AX"
         },
         {
          "symbol": "2"
         },
         {
          "symbol": "BY"
         },
         {
          "symbol": "BY"
         },
         {
          "symbol": "2"
         },
         {
          "symbol": "CX"
         },
         {
          "symbol": "BY"
         },
         {
          "symbol": "2"
         },
         {
          "symbol": "CX"
         },
         {
          "symbol": "AX"
         },
         {
          "symbol": "BZ"
         },
         {
          "symbol": "BY"
         },
         {
          "symbol": "1"
         },
         {
          "symbol": "BX"
         },
         {
          "symbol": "AX"
         },
         {
          "symbol": "CZ"
         },
         {
          "symbol": "1"
         },
         {
          "symbol": "CZ"
         },
         {
          "symbol": "BZ"
         },
         {
          "symbol": "BZ"
         },
         {
          "symbol": "2"
         },
         {
          "symbol": "AY"
         },
         {
          "symbol": "BY"
         },
         {
          "symbol": "AX"
         },
         {
          "symbol": "AX"
         },
         {
          "symbol": "2"
         },
         {
          "symbol": "BY"
         },
         {
          "symbol": "CX"
         },
         {
          "symbol": "2"
         },
         {
          "symbol": "AX"
         },
         {
          "symbol": "CX"
         },
         {
          "symbol": "AX"
         },
         {
          "symbol": "BY"
         },
         {
          "symbol": "2"
         },
         {
          "symbol": "BY"
         },
         {
          "symbol": "AX"
         },
         {
          "symbol": "2"
         },
         {
          "symbol": "BY"
         },
         {
          "symbol": "AX"
         },
         {
          "symbol": "2"
         },
         {
          "symbol": "BY"
         },
         {
          "symbol": "AX"
         },
         {
          "symbol": "2"
         },
         {
          "symbol": "BY"
         },
         {
          "symbol": "BY"
         },
         {
          "symbol": "1"
         },
         {
          "symbol": "BY"
         },
         {
          "symbol": "BX"
         },
         {
          "symbol": "BX"
         },
         {
          "symbol": "2"
         },
         {
          "symbol": "BY"
         },
         {
          "symbol": "AX"
         },
         {
          "symbol": "2"
         },
         {
          "symbol": "AX"
         },
         {
          "symbol": "CX"
         },
         {
          "symbol": "AY"
         },
         {
          "symbol": "AY"
         },
         {
          "symbol": "2"
         },
         {
          "symbol": "BY"
         },
         {
          "symbol": "BY"
         }
        ]
       },
       "encoding": {
        "x": {
         "field": "symbol",
         "type": "nominal"
        },
        "y": {
         "aggregate": "count",
         "type": "quantitative"
        }
       },
       "mark": "bar",
       "selection": {
        "selector001": {
         "bind": "scales",
         "encodings": [
          "x",
          "y"
         ],
         "mark": {
          "fill": "#333",
          "fillOpacity": 0.125,
          "stroke": "white"
         },
         "on": "[mousedown, window:mouseup] > window:mousemove!",
         "resolve": "global",
         "translate": "[mousedown, window:mouseup] > window:mousemove!",
         "type": "interval",
         "zoom": "wheel!"
        }
       }
      },
      "image/png": "[encoded data removed]",
      "text/plain": [
       "<VegaLite 2 object>\n",
       "\n",
       "If you see this message, it means the renderer has not been properly enabled\n",
       "for the frontend that you are using. For more information, see\n",
       "https://altair-viz.github.io/user_guide/troubleshooting.html\n"
      ]
     },
     "execution_count": 5,
     "metadata": {},
     "output_type": "execute_result"
    }
   ],
   "source": [
    "# Create dataframe for viz\n",
    "df = pd.DataFrame(data=out_seq, columns=[\"symbol\"])\n",
    "print(len(out_seq))\n",
    "# contruct a char\n",
    "\n",
    "alt.Chart(data=df).mark_bar().encode(\n",
    "    x=\"symbol\",\n",
    "    y=\"count()\"\n",
    ").interactive()\n"
   ]
  },
  {
   "cell_type": "code",
   "execution_count": 59,
   "metadata": {},
   "outputs": [
    {
     "data": {
      "image/png": "[encoded data removed]",
      "text/plain": [
       "<Figure size 576x432 with 1 Axes>"
      ]
     },
     "metadata": {
      "needs_background": "light"
     },
     "output_type": "display_data"
    }
   ],
   "source": [
    "plt.imshow(inp[:, 0:100], aspect=\"auto\", cmap=\"gray_r\", alpha=0.5)\n",
    "plt.title(\"Input encoding\")\n",
    "plt.xlabel(\"Trial\")\n",
    "plt.ylabel(\"Vector entry\")\n",
    "plt.show()"
   ]
  },
  {
   "cell_type": "markdown",
   "metadata": {},
   "source": [
    "Create a shorter Pytorch dataset subclass"
   ]
  },
  {
   "cell_type": "code",
   "execution_count": 7,
   "metadata": {},
   "outputs": [
    {
     "name": "stdout",
     "output_type": "stream",
     "text": [
      "['1' 'A' 'X' 'B' 'X' 'C' 'X' '2' 'A' 'X' 'A' 'X']\n",
      "(8, 12)\n",
      "(8, 12)\n"
     ]
    }
   ],
   "source": [
    "# Use less trials\n",
    "seq2, rsp2, out_seq2 = generate_sequence(n_inner=4, n_outer=2, seed=95)\n",
    "print(seq2)\n",
    "inp2 = encode_input(sequence=seq2)\n",
    "print(inp2.shape)\n",
    "ds2 = Dataset(sequence=seq2, response=rsp2, encoding=inp2)\n",
    "print(ds2.encoding.shape)"
   ]
  },
  {
   "cell_type": "markdown",
   "metadata": {},
   "source": [
    "### Network set up"
   ]
  },
  {
   "cell_type": "code",
   "execution_count": 141,
   "metadata": {},
   "outputs": [],
   "source": [
    "# Set up the network architecture and define parameters\n",
    "net = SNN(n_neurons=1000, input_dim=8, output_dim=2)\n",
    "\n",
    "# Membrane parameters\n",
    "net.config_membrane(E=-0.07, V_reset=-0.08, V_thr=-0.05, R=1e6, tau=0.01)  # Membrane parameters\n",
    "\n",
    "# Synaptic parameters\n",
    "net.config_syn(tau=0.5, delta_g=10e-9)\n",
    "net.config_input_weights(mean=0.4, density=0.05, seed=1)\n",
    "net.config_recurrent_weights(density=0.1, ex=0.8, seed=2)\n",
    "net.weight_scaling(input_scaling=25, recurrent_scaling=1.9e-9)\n",
    "\n",
    "# Spike-rate adaptation and refractoriness\n",
    "net.config_gsra(tau=0.4, delta=15e-9, E_r=-0.08)\n",
    "net.config_gref(tau=0.002, delta=200e-9, E_r=-0.08)"
   ]
  },
  {
   "cell_type": "markdown",
   "metadata": {},
   "source": [
    "### Connectivity matrices"
   ]
  },
  {
   "cell_type": "code",
   "execution_count": 142,
   "metadata": {},
   "outputs": [
    {
     "data": {
      "image/png": "[encoded data removed]",
      "text/plain": [
       "<Figure size 576x432 with 2 Axes>"
      ]
     },
     "metadata": {
      "needs_background": "light"
     },
     "output_type": "display_data"
    }
   ],
   "source": [
    "plt.imshow(net.w[\"input\"], aspect=\"auto\", cmap=\"gray_r\")\n",
    "plt.title(\"Input weight matrix\")\n",
    "plt.ylabel(\"neuron nr.\")\n",
    "plt.xlabel(\"input symbol\")\n",
    "c = plt.colorbar()\n",
    "c.set_label(\"Conductance\")\n",
    "plt.show()"
   ]
  },
  {
   "cell_type": "code",
   "execution_count": 143,
   "metadata": {},
   "outputs": [
    {
     "data": {
      "image/png": "[encoded data removed]",
      "text/plain": [
       "<Figure size 576x432 with 2 Axes>"
      ]
     },
     "metadata": {
      "needs_background": "light"
     },
     "output_type": "display_data"
    }
   ],
   "source": [
    "plt.imshow(net.w[\"recurrent\"], aspect=\"auto\")\n",
    "plt.title(\"Recurrent weight matrix\")\n",
    "plt.ylabel(\"receiving neuron nr.\")\n",
    "plt.xlabel(\"sending neuron nr.\")\n",
    "c2 = plt.colorbar()\n",
    "c2.set_label(\"Conductance\")\n",
    "plt.show()"
   ]
  },
  {
   "cell_type": "code",
   "execution_count": 144,
   "metadata": {},
   "outputs": [],
   "source": [
    "# Configure recording matrices\n",
    "\n",
    "net.config_recording(n_neurons=net.neurons[\"N\"], t=params.sim[\"T\"], dataset=ds2, downsample=None)\n",
    "\n",
    "# Create step current for input\n",
    "step = params.step_current(t=net.recording[\"t_orig\"], on=0.3, off=0.35, amp=4.4e-9)"
   ]
  },
  {
   "cell_type": "code",
   "execution_count": 145,
   "metadata": {},
   "outputs": [
    {
     "data": {
      "image/png": "[encoded data removed]",
      "text/plain": [
       "<Figure size 576x432 with 1 Axes>"
      ]
     },
     "metadata": {
      "needs_background": "light"
     },
     "output_type": "display_data"
    }
   ],
   "source": [
    "plt.plot(params.sim[\"T\"], step)\n",
    "plt.title(\"Input current\")\n",
    "plt.xlabel(\"time (sec)\")\n",
    "plt.ylabel(\"current (A)\")\n",
    "plt.show()"
   ]
  },
  {
   "cell_type": "markdown",
   "metadata": {},
   "source": [
    "### Stimulate and record network responses"
   ]
  },
  {
   "cell_type": "code",
   "execution_count": 146,
   "metadata": {},
   "outputs": [
    {
     "name": "stdout",
     "output_type": "stream",
     "text": [
      "Trial 0\n",
      "Trial 1\n",
      "Trial 2\n",
      "Trial 3\n",
      "Trial 4\n",
      "Trial 5\n",
      "Trial 6\n",
      "Trial 7\n",
      "Trial 8\n",
      "Trial 9\n",
      "Trial 10\n",
      "Trial 11\n"
     ]
    }
   ],
   "source": [
    "# Train the network\n",
    "net.train(dataset=ds2, current=step)"
   ]
  },
  {
   "cell_type": "markdown",
   "metadata": {},
   "source": [
    "### Plot responses"
   ]
  },
  {
   "cell_type": "code",
   "execution_count": 147,
   "metadata": {},
   "outputs": [
    {
     "data": {
      "image/png": "[encoded data removed]",
      "text/plain": [
       "<Figure size 576x432 with 2 Axes>"
      ]
     },
     "metadata": {
      "needs_background": "light"
     },
     "output_type": "display_data"
    }
   ],
   "source": [
    "trial = 5\n",
    "plt.imshow(net.recording[\"V\"][trial,:,:], aspect=\"auto\") # trial nr 1\n",
    "plt.title(\"Membrane potential \" + \"(trial \" + str(trial+1) + \")\")\n",
    "plt.xlabel(\"time (msec)\")\n",
    "plt.ylabel(\"neuron nr.\")\n",
    "c = plt.colorbar()\n",
    "c.set_label(\"memb. potential (microV)\")"
   ]
  },
  {
   "cell_type": "code",
   "execution_count": 148,
   "metadata": {},
   "outputs": [
    {
     "data": {
      "image/png": "[encoded data removed]",
      "text/plain": [
       "<Figure size 576x432 with 1 Axes>"
      ]
     },
     "metadata": {
      "needs_background": "light"
     },
     "output_type": "display_data"
    }
   ],
   "source": [
    "plt.plot(net.recording[\"V\"][0,: , :].T)\n",
    "plt.xlabel(\"Time (msec)\")\n",
    "plt.ylabel(\"Voltage (mV)\")\n",
    "plt.show()\n"
   ]
  },
  {
   "cell_type": "code",
   "execution_count": 152,
   "metadata": {},
   "outputs": [
    {
     "data": {
      "image/png": "[encoded data removed]",
      "text/plain": [
       "<Figure size 576x432 with 1 Axes>"
      ]
     },
     "metadata": {
      "needs_background": "light"
     },
     "output_type": "display_data"
    }
   ],
   "source": [
    "plt.eventplot(positions=net.recording[\"spikes\"][0, :, :].T)\n",
    "plt.title(\"Spikes \" + \"(trial \" + str(trial+1) + \")\")\n",
    "plt.xlabel(\"time (msec)\")\n",
    "plt.ylabel(\"neuron nr\")\n",
    "plt.show()"
   ]
  },
  {
   "cell_type": "code",
   "execution_count": null,
   "metadata": {},
   "outputs": [],
   "source": []
  }
 ],
 "metadata": {
  "kernelspec": {
   "display_name": "Python 3",
   "language": "python",
   "name": "python3"
  },
  "language_info": {
   "codemirror_mode": {
    "name": "ipython",
    "version": 3
   },
   "file_extension": ".py",
   "mimetype": "text/x-python",
   "name": "python",
   "nbconvert_exporter": "python",
   "pygments_lexer": "ipython3",
   "version": "3.6.7"
  }
 },
 "nbformat": 4,
 "nbformat_minor": 2
}
